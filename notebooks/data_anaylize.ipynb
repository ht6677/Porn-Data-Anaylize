{
 "cells": [
  {
   "cell_type": "code",
   "execution_count": 1,
   "metadata": {},
   "outputs": [],
   "source": [
    "'''\n",
    "-------------------------------------------------------------------------------------\n",
    "福利数据解析\n",
    "基础数据分析，标题分词，词频统计\n",
    "-----------------------------------\n",
    "by:obaby\n",
    "email: root@obaby.org.cn\n",
    "blog:http://www.h4ck.org.cn\n",
    "===================================\n",
    "参考链接：https://sparkbyexamples.com/pyspark/select-columns-from-pyspark-dataframe/\n",
    "-------------------------------------------------------------------------------------\n",
    "'''\n",
    "import jieba"
   ]
  },
  {
   "cell_type": "code",
   "execution_count": 2,
   "metadata": {},
   "outputs": [],
   "source": [
    "# raw_text = sc.textFile(\"hdfs://localhost:9000/data/porn_data_movie.csv\")"
   ]
  },
  {
   "cell_type": "code",
   "execution_count": 3,
   "metadata": {},
   "outputs": [],
   "source": [
    "# raw_text.count()"
   ]
  },
  {
   "cell_type": "code",
   "execution_count": 4,
   "metadata": {},
   "outputs": [],
   "source": [
    "# raw_text.first()"
   ]
  },
  {
   "cell_type": "code",
   "execution_count": 5,
   "metadata": {},
   "outputs": [],
   "source": [
    "#!pip3 show jupyter"
   ]
  },
  {
   "cell_type": "code",
   "execution_count": 6,
   "metadata": {},
   "outputs": [],
   "source": [
    "# 通过spark read csv格式文件，从csv header解析数据结构\n",
    "csv = spark.read.option(\"header\",True).csv(\"hdfs://localhost:9000/data2/porn_data_movie.csv\")"
   ]
  },
  {
   "cell_type": "code",
   "execution_count": 7,
   "metadata": {},
   "outputs": [],
   "source": [
    "# csv"
   ]
  },
  {
   "cell_type": "code",
   "execution_count": 8,
   "metadata": {},
   "outputs": [
    {
     "name": "stdout",
     "output_type": "stream",
     "text": [
      "root\n",
      " |-- id: string (nullable = true)\n",
      " |-- create: string (nullable = true)\n",
      " |-- update: string (nullable = true)\n",
      " |-- name: string (nullable = true)\n",
      " |-- describe: string (nullable = true)\n",
      " |-- source_id: string (nullable = true)\n",
      " |-- publish_time: string (nullable = true)\n",
      " |-- play_count: string (nullable = true)\n",
      " |-- good_count: string (nullable = true)\n",
      " |-- bad_count: string (nullable = true)\n",
      " |-- link_count: string (nullable = true)\n",
      " |-- comment_count: string (nullable = true)\n",
      " |-- designation: string (nullable = true)\n",
      " |-- category_id: string (nullable = true)\n",
      " |-- porn_site_id: string (nullable = true)\n",
      " |-- uploader_id: string (nullable = true)\n",
      " |-- producer: string (nullable = true)\n",
      "\n"
     ]
    }
   ],
   "source": [
    "# 数据格式\n",
    "csv.printSchema()"
   ]
  },
  {
   "cell_type": "code",
   "execution_count": 9,
   "metadata": {},
   "outputs": [
    {
     "name": "stdout",
     "output_type": "stream",
     "text": [
      "+---+--------------------+--------------------+------------------------+------------------------+---------+------------+----------+----------+---------+----------+-------------+-----------+-----------+------------+-----------+--------+\n",
      "| id|              create|              update|                    name|                describe|source_id|publish_time|play_count|good_count|bad_count|link_count|comment_count|designation|category_id|porn_site_id|uploader_id|producer|\n",
      "+---+--------------------+--------------------+------------------------+------------------------+---------+------------+----------+----------+---------+----------+-------------+-----------+-----------+------------+-----------+--------+\n",
      "|  1|7/5/2020 05:20:14...|7/5/2020 05:20:14...|    美女学生考试时被中出|                    null|    76009|  1588819417|      2566|        14|        2|        48|            0|       null|          1|           1|          1|    null|\n",
      "|  2|7/5/2020 05:21:04...|7/5/2020 05:21:04...|      无套中出内射（上）|            无套中出内射|    76021|  1588757668|     11199|        58|        3|       338|            0|       null|          1|           1|          2|    null|\n",
      "|  3|7/5/2020 05:21:06...|7/5/2020 05:21:06...|      无套中出内射（下）|            无套中出内射|    76028|  1588757665|      7067|        39|        3|       310|            0|       null|          1|           1|          2|    null|\n",
      "|  4|7/5/2020 05:21:12...|7/5/2020 05:21:13...|                极品嫩妹|                    null|    76053|  1588756935|      3372|        18|        2|       159|            0|       null|          1|           1|          3|    null|\n",
      "|  5|7/5/2020 05:21:18...|7/5/2020 05:21:19...|                骚妹妹 7|                    null|    76051|  1588756876|      1975|        10|        0|        53|            0|       null|          1|           1|          3|    null|\n",
      "|  6|7/5/2020 05:22:13...|7/5/2020 05:22:13...|漂亮美女完美身材甜美声音|漂亮美女完美身材甜美声音|    75971|  1588744135|     17097|        31|        3|       222|            0|       null|          1|           1|          4|    null|\n",
      "|  7|7/5/2020 05:22:19...|7/5/2020 05:22:19...|          jk捆绑萝莉束缚|                    null|    75342|  1588739354|      8362|        29|        6|       201|            0|       null|          1|           1|          1|    null|\n",
      "|  8|7/5/2020 05:22:23...|7/5/2020 05:22:23...|            最纯萝莉性爱|                    null|    75112|  1588739158|     10329|        61|        5|       434|            0|       null|          1|           1|          1|    null|\n",
      "|  9|7/5/2020 05:22:30...|7/5/2020 05:22:31...|          整容脸制服美女|                    null|    75104|  1588739080|      5297|        26|        2|       221|            0|       null|          1|           1|          1|    null|\n",
      "| 10|7/5/2020 05:22:38...|7/5/2020 05:22:38...|             星 调教萝莉|                    null|    75563|  1588738220|      4725|        31|        5|       166|            0|       null|          1|           1|          5|    null|\n",
      "| 11|7/5/2020 05:22:44...|7/5/2020 05:22:45...|        大一学生寝室自慰|                    null|    75601|  1588686744|     20318|       152|        4|       773|            0|       null|          1|           1|          6|    null|\n",
      "| 12|7/5/2020 05:22:47...|7/5/2020 05:22:48...|    超性感美女给你打飞机|                    null|    75603|  1588686520|     17302|        54|        7|       333|            0|       null|          1|           1|          6|    null|\n",
      "| 13|7/5/2020 05:22:53...|7/5/2020 05:22:53...|      超可爱萝莉下海资源|                    null|    75747|  1588686493|     18133|        98|       10|       497|            0|       null|          1|           1|          6|    null|\n",
      "| 14|7/5/2020 05:22:56...|7/5/2020 05:22:57...|      迷倒女儿然后慢慢操|                    null|    75611|  1588686476|     59674|       182|       25|       793|            0|       null|          1|           1|          6|    null|\n",
      "| 15|7/5/2020 05:22:59...|7/5/2020 05:23:00...|   精灵做爱高潮–影视剪辑|                    null|    75543|  1588686387|      8767|       100|        7|       152|            0|       null|          1|           1|          7|    null|\n",
      "| 16|7/5/2020 05:23:16...|7/5/2020 05:23:16...|        小萝莉被插到大叫|                    null|    75307|  1588670775|     14213|        71|        8|       360|            0|       null|          1|           1|          6|    null|\n",
      "| 17|7/5/2020 05:23:21...|7/5/2020 05:23:22...|    睡醒和白嫩女友来一发|                    null|    75318|  1588668616|      5350|        30|        3|       185|            0|       null|          1|           1|          6|    null|\n",
      "| 18|7/5/2020 05:23:26...|7/5/2020 05:23:27...|  双马尾萝莉甜美自慰诱惑|                    null|    75382|  1588652017|     25311|       190|       10|       890|            0|       null|          1|           1|          8|    null|\n",
      "| 19|7/5/2020 05:23:28...|7/5/2020 05:23:29...|        调教双马尾小萝莉|                    null|    74932|  1588644358|     29114|       180|       19|       783|            0|       null|          1|           1|          1|    null|\n",
      "| 20|7/5/2020 05:23:35...|7/5/2020 05:23:36...|    黑丝小萝莉最喜欢玩具|                    null|    74812|  1588585581|     17084|       141|       10|       883|            0|       null|          1|           1|          9|    null|\n",
      "+---+--------------------+--------------------+------------------------+------------------------+---------+------------+----------+----------+---------+----------+-------------+-----------+-----------+------------+-----------+--------+\n",
      "only showing top 20 rows\n",
      "\n"
     ]
    }
   ],
   "source": [
    "csv.show()"
   ]
  },
  {
   "cell_type": "code",
   "execution_count": 10,
   "metadata": {},
   "outputs": [],
   "source": [
    "# csv.select('_c3','_c4').show()"
   ]
  },
  {
   "cell_type": "code",
   "execution_count": 11,
   "metadata": {},
   "outputs": [],
   "source": [
    "#df = csv.withColumnRenamed('_c3','name').withColumnRenamed('_c4', 'describe')\n",
    "#df.printSchema()"
   ]
  },
  {
   "cell_type": "code",
   "execution_count": 12,
   "metadata": {},
   "outputs": [
    {
     "name": "stdout",
     "output_type": "stream",
     "text": [
      "+------------------------+------------------------+\n",
      "|                    name|                describe|\n",
      "+------------------------+------------------------+\n",
      "|    美女学生考试时被中出|                    null|\n",
      "|      无套中出内射（上）|            无套中出内射|\n",
      "|      无套中出内射（下）|            无套中出内射|\n",
      "|                极品嫩妹|                    null|\n",
      "|                骚妹妹 7|                    null|\n",
      "|漂亮美女完美身材甜美声音|漂亮美女完美身材甜美声音|\n",
      "|          jk捆绑萝莉束缚|                    null|\n",
      "|            最纯萝莉性爱|                    null|\n",
      "|          整容脸制服美女|                    null|\n",
      "|             星 调教萝莉|                    null|\n",
      "|        大一学生寝室自慰|                    null|\n",
      "|    超性感美女给你打飞机|                    null|\n",
      "|      超可爱萝莉下海资源|                    null|\n",
      "|      迷倒女儿然后慢慢操|                    null|\n",
      "|   精灵做爱高潮–影视剪辑|                    null|\n",
      "|        小萝莉被插到大叫|                    null|\n",
      "|    睡醒和白嫩女友来一发|                    null|\n",
      "|  双马尾萝莉甜美自慰诱惑|                    null|\n",
      "|        调教双马尾小萝莉|                    null|\n",
      "|    黑丝小萝莉最喜欢玩具|                    null|\n",
      "+------------------------+------------------------+\n",
      "only showing top 20 rows\n",
      "\n"
     ]
    }
   ],
   "source": [
    "csv.select('name', 'describe').show()"
   ]
  },
  {
   "cell_type": "code",
   "execution_count": 13,
   "metadata": {},
   "outputs": [],
   "source": [
    "#csv.count()"
   ]
  },
  {
   "cell_type": "code",
   "execution_count": 14,
   "metadata": {},
   "outputs": [
    {
     "name": "stdout",
     "output_type": "stream",
     "text": [
      "没有描述信息行数: 96464\n",
      "没有标题行数: 10997\n",
      "总行数： 155856\n"
     ]
    }
   ],
   "source": [
    "from pyspark.sql.functions import col\n",
    "import altair as alt\n",
    "\n",
    "import pandas as pd\n",
    "from matplotlib import pyplot as plt\n",
    "%matplotlib inline\n",
    "\n",
    "no_describe_count = csv.filter('describe is null').select('describe').count()\n",
    "no_name_count = csv.filter('name is null').select('name').count()\n",
    "total_count = csv.count()\n",
    "print('没有描述信息行数:', str(no_describe_count))\n",
    "print('没有标题行数:', str(no_name_count))\n",
    "print('总行数：', str(total_count))"
   ]
  },
  {
   "cell_type": "code",
   "execution_count": 15,
   "metadata": {},
   "outputs": [
    {
     "data": {
      "text/html": [
       "\n",
       "<div id=\"altair-viz-ae348446974e4317930376ad50595988\"></div>\n",
       "<script type=\"text/javascript\">\n",
       "  (function(spec, embedOpt){\n",
       "    let outputDiv = document.currentScript.previousElementSibling;\n",
       "    if (outputDiv.id !== \"altair-viz-ae348446974e4317930376ad50595988\") {\n",
       "      outputDiv = document.getElementById(\"altair-viz-ae348446974e4317930376ad50595988\");\n",
       "    }\n",
       "    const paths = {\n",
       "      \"vega\": \"https://cdn.jsdelivr.net/npm//vega@5?noext\",\n",
       "      \"vega-lib\": \"https://cdn.jsdelivr.net/npm//vega-lib?noext\",\n",
       "      \"vega-lite\": \"https://cdn.jsdelivr.net/npm//vega-lite@4.8.1?noext\",\n",
       "      \"vega-embed\": \"https://cdn.jsdelivr.net/npm//vega-embed@6?noext\",\n",
       "    };\n",
       "\n",
       "    function loadScript(lib) {\n",
       "      return new Promise(function(resolve, reject) {\n",
       "        var s = document.createElement('script');\n",
       "        s.src = paths[lib];\n",
       "        s.async = true;\n",
       "        s.onload = () => resolve(paths[lib]);\n",
       "        s.onerror = () => reject(`Error loading script: ${paths[lib]}`);\n",
       "        document.getElementsByTagName(\"head\")[0].appendChild(s);\n",
       "      });\n",
       "    }\n",
       "\n",
       "    function showError(err) {\n",
       "      outputDiv.innerHTML = `<div class=\"error\" style=\"color:red;\">${err}</div>`;\n",
       "      throw err;\n",
       "    }\n",
       "\n",
       "    function displayChart(vegaEmbed) {\n",
       "      vegaEmbed(outputDiv, spec, embedOpt)\n",
       "        .catch(err => showError(`Javascript Error: ${err.message}<br>This usually means there's a typo in your chart specification. See the javascript console for the full traceback.`));\n",
       "    }\n",
       "\n",
       "    if(typeof define === \"function\" && define.amd) {\n",
       "      requirejs.config({paths});\n",
       "      require([\"vega-embed\"], displayChart, err => showError(`Error loading script: ${err.message}`));\n",
       "    } else if (typeof vegaEmbed === \"function\") {\n",
       "      displayChart(vegaEmbed);\n",
       "    } else {\n",
       "      loadScript(\"vega\")\n",
       "        .then(() => loadScript(\"vega-lite\"))\n",
       "        .then(() => loadScript(\"vega-embed\"))\n",
       "        .catch(showError)\n",
       "        .then(() => displayChart(vegaEmbed));\n",
       "    }\n",
       "  })({\"config\": {\"view\": {\"continuousWidth\": 400, \"continuousHeight\": 300}}, \"data\": {\"name\": \"data-b1b25e9f3f049b47faa45a93a1570dd5\"}, \"mark\": \"bar\", \"encoding\": {\"x\": {\"type\": \"nominal\", \"field\": \"name\"}, \"y\": {\"type\": \"quantitative\", \"field\": \"count\"}}, \"$schema\": \"https://vega.github.io/schema/vega-lite/v4.8.1.json\", \"datasets\": {\"data-b1b25e9f3f049b47faa45a93a1570dd5\": [{\"name\": \"\\u63cf\\u8ff0\\u4e3a\\u7a7a\", \"count\": 96464}, {\"name\": \"\\u6807\\u9898\\u4e3a\\u7a7a\", \"count\": 10997}, {\"name\": \"\\u603b\\u6570\", \"count\": 155856}]}}, {\"mode\": \"vega-lite\"});\n",
       "</script>"
      ],
      "text/plain": [
       "alt.Chart(...)"
      ]
     },
     "execution_count": 15,
     "metadata": {},
     "output_type": "execute_result"
    }
   ],
   "source": [
    "#csv.filter(col(\"describe\") == '').count()\n",
    "source = pd.DataFrame({\n",
    "    'name':['描述为空', '标题为空', '总数'],\n",
    "    'count':[no_describe_count, no_name_count, total_count]\n",
    "})\n",
    "alt.Chart(source).mark_bar().encode(\n",
    "    x='name',\n",
    "    y='count'\n",
    ")"
   ]
  },
  {
   "cell_type": "markdown",
   "metadata": {},
   "source": [
    "整体来说视频没有标题的数量较少，但是大多数的视频都没有描述信息。"
   ]
  },
  {
   "cell_type": "code",
   "execution_count": 16,
   "metadata": {},
   "outputs": [],
   "source": [
    "# !pip3 install altair -i https://pypi.tuna.tsinghua.edu.cn/simple\n",
    "# !pip3 install matplotlib -i https://pypi.tuna.tsinghua.edu.cn/simple"
   ]
  },
  {
   "cell_type": "code",
   "execution_count": 17,
   "metadata": {},
   "outputs": [
    {
     "data": {
      "text/plain": [
       "Row(id='1', create='7/5/2020 05:20:14.134443', update='7/5/2020 05:20:14.768052', name='美女学生考试时被中出', describe=None, source_id='76009', publish_time='1588819417', play_count='2566', good_count='14', bad_count='2', link_count='48', comment_count='0', designation=None, category_id='1', porn_site_id='1', uploader_id='1', producer=None)"
      ]
     },
     "execution_count": 17,
     "metadata": {},
     "output_type": "execute_result"
    }
   ],
   "source": [
    "csv.rdd.first()\n"
   ]
  },
  {
   "cell_type": "code",
   "execution_count": 18,
   "metadata": {},
   "outputs": [],
   "source": [
    "pdf = csv.toPandas()"
   ]
  },
  {
   "cell_type": "code",
   "execution_count": 19,
   "metadata": {},
   "outputs": [
    {
     "data": {
      "text/html": [
       "<div>\n",
       "<style scoped>\n",
       "    .dataframe tbody tr th:only-of-type {\n",
       "        vertical-align: middle;\n",
       "    }\n",
       "\n",
       "    .dataframe tbody tr th {\n",
       "        vertical-align: top;\n",
       "    }\n",
       "\n",
       "    .dataframe thead th {\n",
       "        text-align: right;\n",
       "    }\n",
       "</style>\n",
       "<table border=\"1\" class=\"dataframe\">\n",
       "  <thead>\n",
       "    <tr style=\"text-align: right;\">\n",
       "      <th></th>\n",
       "      <th>id</th>\n",
       "      <th>create</th>\n",
       "      <th>update</th>\n",
       "      <th>name</th>\n",
       "      <th>describe</th>\n",
       "      <th>source_id</th>\n",
       "      <th>publish_time</th>\n",
       "      <th>play_count</th>\n",
       "      <th>good_count</th>\n",
       "      <th>bad_count</th>\n",
       "      <th>link_count</th>\n",
       "      <th>comment_count</th>\n",
       "      <th>designation</th>\n",
       "      <th>category_id</th>\n",
       "      <th>porn_site_id</th>\n",
       "      <th>uploader_id</th>\n",
       "      <th>producer</th>\n",
       "    </tr>\n",
       "  </thead>\n",
       "  <tbody>\n",
       "    <tr>\n",
       "      <th>0</th>\n",
       "      <td>1</td>\n",
       "      <td>7/5/2020 05:20:14.134443</td>\n",
       "      <td>7/5/2020 05:20:14.768052</td>\n",
       "      <td>美女学生考试时被中出</td>\n",
       "      <td>None</td>\n",
       "      <td>76009</td>\n",
       "      <td>1588819417</td>\n",
       "      <td>2566</td>\n",
       "      <td>14</td>\n",
       "      <td>2</td>\n",
       "      <td>48</td>\n",
       "      <td>0</td>\n",
       "      <td>None</td>\n",
       "      <td>1</td>\n",
       "      <td>1</td>\n",
       "      <td>1</td>\n",
       "      <td>None</td>\n",
       "    </tr>\n",
       "    <tr>\n",
       "      <th>1</th>\n",
       "      <td>2</td>\n",
       "      <td>7/5/2020 05:21:04.500403</td>\n",
       "      <td>7/5/2020 05:21:04.994096</td>\n",
       "      <td>无套中出内射（上）</td>\n",
       "      <td>无套中出内射</td>\n",
       "      <td>76021</td>\n",
       "      <td>1588757668</td>\n",
       "      <td>11199</td>\n",
       "      <td>58</td>\n",
       "      <td>3</td>\n",
       "      <td>338</td>\n",
       "      <td>0</td>\n",
       "      <td>None</td>\n",
       "      <td>1</td>\n",
       "      <td>1</td>\n",
       "      <td>2</td>\n",
       "      <td>None</td>\n",
       "    </tr>\n",
       "    <tr>\n",
       "      <th>2</th>\n",
       "      <td>3</td>\n",
       "      <td>7/5/2020 05:21:06.562127</td>\n",
       "      <td>7/5/2020 05:21:06.916907</td>\n",
       "      <td>无套中出内射（下）</td>\n",
       "      <td>无套中出内射</td>\n",
       "      <td>76028</td>\n",
       "      <td>1588757665</td>\n",
       "      <td>7067</td>\n",
       "      <td>39</td>\n",
       "      <td>3</td>\n",
       "      <td>310</td>\n",
       "      <td>0</td>\n",
       "      <td>None</td>\n",
       "      <td>1</td>\n",
       "      <td>1</td>\n",
       "      <td>2</td>\n",
       "      <td>None</td>\n",
       "    </tr>\n",
       "    <tr>\n",
       "      <th>3</th>\n",
       "      <td>4</td>\n",
       "      <td>7/5/2020 05:21:12.77195</td>\n",
       "      <td>7/5/2020 05:21:13.217674</td>\n",
       "      <td>极品嫩妹</td>\n",
       "      <td>None</td>\n",
       "      <td>76053</td>\n",
       "      <td>1588756935</td>\n",
       "      <td>3372</td>\n",
       "      <td>18</td>\n",
       "      <td>2</td>\n",
       "      <td>159</td>\n",
       "      <td>0</td>\n",
       "      <td>None</td>\n",
       "      <td>1</td>\n",
       "      <td>1</td>\n",
       "      <td>3</td>\n",
       "      <td>None</td>\n",
       "    </tr>\n",
       "    <tr>\n",
       "      <th>4</th>\n",
       "      <td>5</td>\n",
       "      <td>7/5/2020 05:21:18.718269</td>\n",
       "      <td>7/5/2020 05:21:19.039071</td>\n",
       "      <td>骚妹妹 7</td>\n",
       "      <td>None</td>\n",
       "      <td>76051</td>\n",
       "      <td>1588756876</td>\n",
       "      <td>1975</td>\n",
       "      <td>10</td>\n",
       "      <td>0</td>\n",
       "      <td>53</td>\n",
       "      <td>0</td>\n",
       "      <td>None</td>\n",
       "      <td>1</td>\n",
       "      <td>1</td>\n",
       "      <td>3</td>\n",
       "      <td>None</td>\n",
       "    </tr>\n",
       "  </tbody>\n",
       "</table>\n",
       "</div>"
      ],
      "text/plain": [
       "  id                    create                    update        name describe  \\\n",
       "0  1  7/5/2020 05:20:14.134443  7/5/2020 05:20:14.768052  美女学生考试时被中出     None   \n",
       "1  2  7/5/2020 05:21:04.500403  7/5/2020 05:21:04.994096   无套中出内射（上）   无套中出内射   \n",
       "2  3  7/5/2020 05:21:06.562127  7/5/2020 05:21:06.916907   无套中出内射（下）   无套中出内射   \n",
       "3  4   7/5/2020 05:21:12.77195  7/5/2020 05:21:13.217674        极品嫩妹     None   \n",
       "4  5  7/5/2020 05:21:18.718269  7/5/2020 05:21:19.039071       骚妹妹 7     None   \n",
       "\n",
       "  source_id publish_time play_count good_count bad_count link_count  \\\n",
       "0     76009   1588819417       2566         14         2         48   \n",
       "1     76021   1588757668      11199         58         3        338   \n",
       "2     76028   1588757665       7067         39         3        310   \n",
       "3     76053   1588756935       3372         18         2        159   \n",
       "4     76051   1588756876       1975         10         0         53   \n",
       "\n",
       "  comment_count designation category_id porn_site_id uploader_id producer  \n",
       "0             0        None           1            1           1     None  \n",
       "1             0        None           1            1           2     None  \n",
       "2             0        None           1            1           2     None  \n",
       "3             0        None           1            1           3     None  \n",
       "4             0        None           1            1           3     None  "
      ]
     },
     "execution_count": 19,
     "metadata": {},
     "output_type": "execute_result"
    }
   ],
   "source": [
    "pdf.head()"
   ]
  },
  {
   "cell_type": "code",
   "execution_count": 20,
   "metadata": {},
   "outputs": [],
   "source": [
    "# pdf['playc_count'] = pd.to_numeric(pdf['play_count'], errors='ignore')"
   ]
  },
  {
   "cell_type": "code",
   "execution_count": null,
   "metadata": {},
   "outputs": [],
   "source": []
  },
  {
   "cell_type": "code",
   "execution_count": 21,
   "metadata": {},
   "outputs": [],
   "source": [
    "# pdf['play_count_int'] = pdf['play_count'].astype(int)\n",
    "pdf['playc_count'] = pd.to_numeric(pdf['play_count'], errors='coerce')"
   ]
  },
  {
   "cell_type": "code",
   "execution_count": 22,
   "metadata": {},
   "outputs": [],
   "source": [
    "pdf['playc_count'] = pdf['playc_count'].fillna(0)"
   ]
  },
  {
   "cell_type": "code",
   "execution_count": 23,
   "metadata": {},
   "outputs": [
    {
     "name": "stdout",
     "output_type": "stream",
     "text": [
      "<class 'pandas.core.frame.DataFrame'>\n",
      "RangeIndex: 155856 entries, 0 to 155855\n",
      "Data columns (total 18 columns):\n",
      " #   Column         Non-Null Count   Dtype  \n",
      "---  ------         --------------   -----  \n",
      " 0   id             155855 non-null  object \n",
      " 1   create         154126 non-null  object \n",
      " 2   update         154316 non-null  object \n",
      " 3   name           144859 non-null  object \n",
      " 4   describe       59392 non-null   object \n",
      " 5   source_id      151995 non-null  object \n",
      " 6   publish_time   151994 non-null  object \n",
      " 7   play_count     151185 non-null  object \n",
      " 8   good_count     150036 non-null  object \n",
      " 9   bad_count      151081 non-null  object \n",
      " 10  link_count     151110 non-null  object \n",
      " 11  comment_count  150634 non-null  object \n",
      " 12  designation    36394 non-null   object \n",
      " 13  category_id    35416 non-null   object \n",
      " 14  porn_site_id   149667 non-null  object \n",
      " 15  uploader_id    70964 non-null   object \n",
      " 16  producer       3 non-null       object \n",
      " 17  playc_count    155856 non-null  float64\n",
      "dtypes: float64(1), object(17)\n",
      "memory usage: 21.4+ MB\n"
     ]
    }
   ],
   "source": [
    "pdf.info()"
   ]
  },
  {
   "cell_type": "code",
   "execution_count": 48,
   "metadata": {},
   "outputs": [
    {
     "name": "stdout",
     "output_type": "stream",
     "text": [
      "总播放次数: 6277445731.0\n"
     ]
    }
   ],
   "source": [
    "# 总播放次数，数据中的播放次数并没有进行实时更新，所以数值偏小\n",
    "# 另外部分网站没有返回播放次数，所以一定程度上也减小了这个实际的总次数，即使如此，播放次数还是比较大的\n",
    "print('总播放次数:',pdf['playc_count'].sum())"
   ]
  },
  {
   "cell_type": "code",
   "execution_count": 49,
   "metadata": {},
   "outputs": [
    {
     "name": "stdout",
     "output_type": "stream",
     "text": [
      "平均播放次数： 40277.21570552305\n"
     ]
    }
   ],
   "source": [
    "print('平均播放次数：',pdf['playc_count'].mean())"
   ]
  },
  {
   "cell_type": "code",
   "execution_count": 50,
   "metadata": {},
   "outputs": [
    {
     "name": "stdout",
     "output_type": "stream",
     "text": [
      "最高播放次数: 12777854.0\n",
      "最低播放次数: 0.0\n"
     ]
    }
   ],
   "source": [
    "print('最高播放次数:', pdf['playc_count'].max())\n",
    "print('最低播放次数:', pdf['playc_count'].min()) # 部分网站没有返回播放次数信息，爬虫无法获取播放次数"
   ]
  },
  {
   "cell_type": "code",
   "execution_count": 27,
   "metadata": {},
   "outputs": [],
   "source": [
    "\n",
    "# play_count_df = pd.cut(pdf['playc_count'], \n",
    "#                        bins=[0, 100, 200, 300, 400, 500,600,700,800,900, 1000,1100, 12000],\n",
    "#                       right=False,\n",
    "#                       labels=['0', '1-99', '100-199', '200-299', '300-399', '400-499', '500-599', '600-699', '700-799', '800-899', '900-999', '>1K']\n",
    "#                       )\n",
    "# play_count_df\n",
    "quartiles = pd.cut(pdf.playc_count, 30)\n",
    "quartiles.head()\n",
    "\n",
    "# 定义聚合函数\n",
    "def get_stats(group):\n",
    "    return {'playc_count': group.sum()}\n",
    "\n",
    "# 分组统计\n",
    "grouped = pdf.playc_count.groupby(quartiles)\n",
    "price_bucket_amount = grouped.apply(get_stats).unstack()"
   ]
  },
  {
   "cell_type": "code",
   "execution_count": 28,
   "metadata": {},
   "outputs": [
    {
     "data": {
      "text/html": [
       "<div>\n",
       "<style scoped>\n",
       "    .dataframe tbody tr th:only-of-type {\n",
       "        vertical-align: middle;\n",
       "    }\n",
       "\n",
       "    .dataframe tbody tr th {\n",
       "        vertical-align: top;\n",
       "    }\n",
       "\n",
       "    .dataframe thead th {\n",
       "        text-align: right;\n",
       "    }\n",
       "</style>\n",
       "<table border=\"1\" class=\"dataframe\">\n",
       "  <thead>\n",
       "    <tr style=\"text-align: right;\">\n",
       "      <th></th>\n",
       "      <th>playc_count</th>\n",
       "    </tr>\n",
       "    <tr>\n",
       "      <th>playc_count</th>\n",
       "      <th></th>\n",
       "    </tr>\n",
       "  </thead>\n",
       "  <tbody>\n",
       "    <tr>\n",
       "      <th>(-12777.854, 425928.467]</th>\n",
       "      <td>4.329000e+09</td>\n",
       "    </tr>\n",
       "    <tr>\n",
       "      <th>(425928.467, 851856.933]</th>\n",
       "      <td>9.426015e+08</td>\n",
       "    </tr>\n",
       "    <tr>\n",
       "      <th>(851856.933, 1277785.4]</th>\n",
       "      <td>3.389843e+08</td>\n",
       "    </tr>\n",
       "    <tr>\n",
       "      <th>(1277785.4, 1703713.867]</th>\n",
       "      <td>1.600206e+08</td>\n",
       "    </tr>\n",
       "    <tr>\n",
       "      <th>(1703713.867, 2129642.333]</th>\n",
       "      <td>1.297862e+08</td>\n",
       "    </tr>\n",
       "  </tbody>\n",
       "</table>\n",
       "</div>"
      ],
      "text/plain": [
       "                             playc_count\n",
       "playc_count                             \n",
       "(-12777.854, 425928.467]    4.329000e+09\n",
       "(425928.467, 851856.933]    9.426015e+08\n",
       "(851856.933, 1277785.4]     3.389843e+08\n",
       "(1277785.4, 1703713.867]    1.600206e+08\n",
       "(1703713.867, 2129642.333]  1.297862e+08"
      ]
     },
     "execution_count": 28,
     "metadata": {},
     "output_type": "execute_result"
    }
   ],
   "source": [
    "price_bucket_amount.head()"
   ]
  },
  {
   "cell_type": "code",
   "execution_count": 33,
   "metadata": {},
   "outputs": [],
   "source": [
    "#from altair import *\n",
    "#Chart(pdf[:4999]).mark_bar().encode(\n",
    "#    x=X('play_count:Q'),\n",
    "#    y='count(*):Q')"
   ]
  },
  {
   "cell_type": "code",
   "execution_count": 34,
   "metadata": {},
   "outputs": [],
   "source": [
    "name_rdd = csv.select('name').rdd"
   ]
  },
  {
   "cell_type": "code",
   "execution_count": 66,
   "metadata": {},
   "outputs": [
    {
     "data": {
      "text/plain": [
       "152841"
      ]
     },
     "execution_count": 66,
     "metadata": {},
     "output_type": "execute_result"
    }
   ],
   "source": [
    "name_rdd.count()"
   ]
  },
  {
   "cell_type": "code",
   "execution_count": null,
   "metadata": {},
   "outputs": [],
   "source": []
  },
  {
   "cell_type": "code",
   "execution_count": 35,
   "metadata": {},
   "outputs": [],
   "source": [
    "def splitCH(line):\n",
    "    is_contain_one_word=False\n",
    "    words = jieba.cut(str(line))\n",
    "    l =[]\n",
    "    if not is_contain_one_word:\n",
    "        for w in words:\n",
    "            if len(w)>1:\n",
    "                l.append(str(w))\n",
    "        return l\n",
    "    return list(words)\n",
    "    "
   ]
  },
  {
   "cell_type": "code",
   "execution_count": null,
   "metadata": {},
   "outputs": [],
   "source": []
  },
  {
   "cell_type": "code",
   "execution_count": 36,
   "metadata": {},
   "outputs": [
    {
     "data": {
      "text/plain": [
       "Row(name='美女学生考试时被中出')"
      ]
     },
     "execution_count": 36,
     "metadata": {},
     "output_type": "execute_result"
    }
   ],
   "source": [
    "name_rdd.first()"
   ]
  },
  {
   "cell_type": "code",
   "execution_count": 37,
   "metadata": {},
   "outputs": [],
   "source": [
    "# name_word_rdd = name_rdd.flatMap(lambda name: str(name).split(' '))\n",
    "name_word_rdd = name_rdd.flatMap(splitCH)"
   ]
  },
  {
   "cell_type": "code",
   "execution_count": 38,
   "metadata": {},
   "outputs": [
    {
     "data": {
      "text/plain": [
       "1006110"
      ]
     },
     "execution_count": 38,
     "metadata": {},
     "output_type": "execute_result"
    }
   ],
   "source": [
    "name_word_rdd.count()"
   ]
  },
  {
   "cell_type": "code",
   "execution_count": 39,
   "metadata": {},
   "outputs": [
    {
     "data": {
      "text/plain": [
       "'Row'"
      ]
     },
     "execution_count": 39,
     "metadata": {},
     "output_type": "execute_result"
    }
   ],
   "source": [
    "name_word_rdd.first()"
   ]
  },
  {
   "cell_type": "code",
   "execution_count": 40,
   "metadata": {},
   "outputs": [
    {
     "data": {
      "text/plain": [
       "['Row',\n",
       " 'name',\n",
       " '美女',\n",
       " '学生',\n",
       " '考试',\n",
       " '中出',\n",
       " 'Row',\n",
       " 'name',\n",
       " '无套',\n",
       " '中出',\n",
       " '内射',\n",
       " 'Row',\n",
       " 'name',\n",
       " '无套',\n",
       " '中出',\n",
       " '内射',\n",
       " 'Row',\n",
       " 'name',\n",
       " '极品',\n",
       " '嫩妹']"
      ]
     },
     "execution_count": 40,
     "metadata": {},
     "output_type": "execute_result"
    }
   ],
   "source": [
    "name_word_rdd.take(20)"
   ]
  },
  {
   "cell_type": "code",
   "execution_count": 41,
   "metadata": {},
   "outputs": [],
   "source": [
    "# map reduce 进行词频统计\n",
    "name_counts_rdd = name_word_rdd.map(lambda x:(x,1)).reduceByKey(lambda x,y:x+y)\n"
   ]
  },
  {
   "cell_type": "code",
   "execution_count": 42,
   "metadata": {},
   "outputs": [
    {
     "name": "stdout",
     "output_type": "stream",
     "text": [
      "单词统计一共: 60585\n"
     ]
    }
   ],
   "source": [
    "print('单词统计一共:', str(name_counts_rdd.count()))"
   ]
  },
  {
   "cell_type": "code",
   "execution_count": 43,
   "metadata": {},
   "outputs": [],
   "source": [
    "name_counts_rdd.saveAsTextFile('hdfs://localhost:9000/data2/name_counts.txt')"
   ]
  },
  {
   "cell_type": "code",
   "execution_count": 44,
   "metadata": {},
   "outputs": [
    {
     "data": {
      "text/plain": [
       "[('name', 155856),\n",
       " ('Row', 155856),\n",
       " ('None', 10997),\n",
       " ('中文字幕', 8903),\n",
       " ('美女', 6111),\n",
       " ('巨乳', 4368),\n",
       " ('性感', 4222),\n",
       " ('自慰', 4201),\n",
       " ('啪啪', 3983),\n",
       " ('诱惑', 3279),\n",
       " ('人妻', 3239),\n",
       " ('极品', 3141),\n",
       " ('妹妹', 3131),\n",
       " ('女友', 2768),\n",
       " ('性爱', 2758),\n",
       " ('少妇', 2752),\n",
       " ('美少女', 2668),\n",
       " ('喜欢', 2654),\n",
       " ('高潮', 2624),\n",
       " ('酒店', 2392)]"
      ]
     },
     "execution_count": 44,
     "metadata": {},
     "output_type": "execute_result"
    }
   ],
   "source": [
    "name_counts_rdd.sortBy(lambda a: a[1],ascending=False).collect()[:20]"
   ]
  },
  {
   "cell_type": "markdown",
   "metadata": {},
   "source": [
    "通过上面的统计其实可以看出，鉴于很多网站还有很多来源于日本的视频，所以中文字幕的词频依然非常高。除此之外还可以看到一些常用的描述性词汇。"
   ]
  },
  {
   "cell_type": "code",
   "execution_count": 45,
   "metadata": {},
   "outputs": [],
   "source": [
    "name_counts_df = name_counts_rdd.toDF().toPandas()\n"
   ]
  },
  {
   "cell_type": "code",
   "execution_count": 46,
   "metadata": {},
   "outputs": [
    {
     "data": {
      "text/html": [
       "<div>\n",
       "<style scoped>\n",
       "    .dataframe tbody tr th:only-of-type {\n",
       "        vertical-align: middle;\n",
       "    }\n",
       "\n",
       "    .dataframe tbody tr th {\n",
       "        vertical-align: top;\n",
       "    }\n",
       "\n",
       "    .dataframe thead th {\n",
       "        text-align: right;\n",
       "    }\n",
       "</style>\n",
       "<table border=\"1\" class=\"dataframe\">\n",
       "  <thead>\n",
       "    <tr style=\"text-align: right;\">\n",
       "      <th></th>\n",
       "      <th>_1</th>\n",
       "      <th>_2</th>\n",
       "    </tr>\n",
       "  </thead>\n",
       "  <tbody>\n",
       "    <tr>\n",
       "      <th>0</th>\n",
       "      <td>name</td>\n",
       "      <td>155856</td>\n",
       "    </tr>\n",
       "    <tr>\n",
       "      <th>1</th>\n",
       "      <td>美女</td>\n",
       "      <td>6111</td>\n",
       "    </tr>\n",
       "    <tr>\n",
       "      <th>2</th>\n",
       "      <td>无套</td>\n",
       "      <td>1323</td>\n",
       "    </tr>\n",
       "    <tr>\n",
       "      <th>3</th>\n",
       "      <td>内射</td>\n",
       "      <td>1234</td>\n",
       "    </tr>\n",
       "    <tr>\n",
       "      <th>4</th>\n",
       "      <td>极品</td>\n",
       "      <td>3141</td>\n",
       "    </tr>\n",
       "  </tbody>\n",
       "</table>\n",
       "</div>"
      ],
      "text/plain": [
       "     _1      _2\n",
       "0  name  155856\n",
       "1    美女    6111\n",
       "2    无套    1323\n",
       "3    内射    1234\n",
       "4    极品    3141"
      ]
     },
     "execution_count": 46,
     "metadata": {},
     "output_type": "execute_result"
    }
   ],
   "source": [
    "name_counts_df.head()"
   ]
  },
  {
   "cell_type": "code",
   "execution_count": 47,
   "metadata": {},
   "outputs": [
    {
     "data": {
      "text/html": [
       "\n",
       "<div id=\"altair-viz-75c110a8a87643d6a1052fb49414da7a\"></div>\n",
       "<script type=\"text/javascript\">\n",
       "  (function(spec, embedOpt){\n",
       "    let outputDiv = document.currentScript.previousElementSibling;\n",
       "    if (outputDiv.id !== \"altair-viz-75c110a8a87643d6a1052fb49414da7a\") {\n",
       "      outputDiv = document.getElementById(\"altair-viz-75c110a8a87643d6a1052fb49414da7a\");\n",
       "    }\n",
       "    const paths = {\n",
       "      \"vega\": \"https://cdn.jsdelivr.net/npm//vega@5?noext\",\n",
       "      \"vega-lib\": \"https://cdn.jsdelivr.net/npm//vega-lib?noext\",\n",
       "      \"vega-lite\": \"https://cdn.jsdelivr.net/npm//vega-lite@4.8.1?noext\",\n",
       "      \"vega-embed\": \"https://cdn.jsdelivr.net/npm//vega-embed@6?noext\",\n",
       "    };\n",
       "\n",
       "    function loadScript(lib) {\n",
       "      return new Promise(function(resolve, reject) {\n",
       "        var s = document.createElement('script');\n",
       "        s.src = paths[lib];\n",
       "        s.async = true;\n",
       "        s.onload = () => resolve(paths[lib]);\n",
       "        s.onerror = () => reject(`Error loading script: ${paths[lib]}`);\n",
       "        document.getElementsByTagName(\"head\")[0].appendChild(s);\n",
       "      });\n",
       "    }\n",
       "\n",
       "    function showError(err) {\n",
       "      outputDiv.innerHTML = `<div class=\"error\" style=\"color:red;\">${err}</div>`;\n",
       "      throw err;\n",
       "    }\n",
       "\n",
       "    function displayChart(vegaEmbed) {\n",
       "      vegaEmbed(outputDiv, spec, embedOpt)\n",
       "        .catch(err => showError(`Javascript Error: ${err.message}<br>This usually means there's a typo in your chart specification. See the javascript console for the full traceback.`));\n",
       "    }\n",
       "\n",
       "    if(typeof define === \"function\" && define.amd) {\n",
       "      requirejs.config({paths});\n",
       "      require([\"vega-embed\"], displayChart, err => showError(`Error loading script: ${err.message}`));\n",
       "    } else if (typeof vegaEmbed === \"function\") {\n",
       "      displayChart(vegaEmbed);\n",
       "    } else {\n",
       "      loadScript(\"vega\")\n",
       "        .then(() => loadScript(\"vega-lite\"))\n",
       "        .then(() => loadScript(\"vega-embed\"))\n",
       "        .catch(showError)\n",
       "        .then(() => displayChart(vegaEmbed));\n",
       "    }\n",
       "  })({\"config\": {\"view\": {\"continuousWidth\": 400, \"continuousHeight\": 300}}, \"data\": {\"name\": \"data-f181031efefab923ac1bc5fc39792db7\"}, \"mark\": \"bar\", \"encoding\": {\"x\": {\"type\": \"nominal\", \"field\": \"_1\"}, \"y\": {\"type\": \"quantitative\", \"field\": \"_2\"}}, \"$schema\": \"https://vega.github.io/schema/vega-lite/v4.8.1.json\", \"datasets\": {\"data-f181031efefab923ac1bc5fc39792db7\": [{\"_1\": \"\\u5185\\u5c04\", \"_2\": 1234}, {\"_1\": \"\\u6781\\u54c1\", \"_2\": 3141}, {\"_1\": \"\\u5ae9\\u59b9\", \"_2\": 310}, {\"_1\": \"\\u6f02\\u4eae\", \"_2\": 1412}, {\"_1\": \"\\u5b8c\\u7f8e\", \"_2\": 515}, {\"_1\": \"\\u751c\\u7f8e\", \"_2\": 228}, {\"_1\": \"\\u675f\\u7f1a\", \"_2\": 67}, {\"_1\": \"\\u5236\\u670d\", \"_2\": 1494}, {\"_1\": \"\\u5bdd\\u5ba4\", \"_2\": 20}, {\"_1\": \"\\u81ea\\u6170\", \"_2\": 4201}, {\"_1\": \"\\u6027\\u611f\", \"_2\": 4222}, {\"_1\": \"\\u98de\\u673a\", \"_2\": 210}, {\"_1\": \"\\u53ef\\u7231\", \"_2\": 1512}, {\"_1\": \"\\u4e0b\\u6d77\", \"_2\": 377}, {\"_1\": \"\\u6162\\u6162\", \"_2\": 96}, {\"_1\": \"\\u7cbe\\u7075\", \"_2\": 44}, {\"_1\": \"\\u5c0f\\u841d\\u8389\", \"_2\": 294}, {\"_1\": \"\\u7761\\u9192\", \"_2\": 22}, {\"_1\": \"\\u5973\\u53cb\", \"_2\": 2768}, {\"_1\": \"\\u4e00\\u53d1\", \"_2\": 130}, {\"_1\": \"\\u9a6c\\u5c3e\", \"_2\": 272}, {\"_1\": \"\\u8bf1\\u60d1\", \"_2\": 3279}, {\"_1\": \"\\u559c\\u6b22\", \"_2\": 2654}, {\"_1\": \"\\u73a9\\u5177\", \"_2\": 273}, {\"_1\": \"\\u5ae9\\u767d\", \"_2\": 19}, {\"_1\": \"\\u4e1d\\u841d\", \"_2\": 16}, {\"_1\": \"lo\", \"_2\": 8}, {\"_1\": \"\\u5c0f\\u59d0\\u59d0\", \"_2\": 1409}, {\"_1\": \"\\u65e5\\u8bb0\", \"_2\": 190}, {\"_1\": \"\\u9ebb\\u8863\", \"_2\": 44}, {\"_1\": \"\\u6c34\\u8d85\", \"_2\": 13}, {\"_1\": \"\\u767d\\u864e\", \"_2\": 1046}, {\"_1\": \"\\u5c11\\u5973\", \"_2\": 2030}, {\"_1\": \"\\u841d\\u8389\\u59b9\", \"_2\": 31}, {\"_1\": \"\\u590f\\u539f\", \"_2\": 3}, {\"_1\": \"\\u5c0f\\u863f\\u8389\", \"_2\": 1}, {\"_1\": \"\\u73a9\\u5047\", \"_2\": 4}]}}, {\"mode\": \"vega-lite\"});\n",
       "</script>"
      ],
      "text/plain": [
       "alt.Chart(...)"
      ]
     },
     "execution_count": 47,
     "metadata": {},
     "output_type": "execute_result"
    }
   ],
   "source": [
    "# 部分单词词频展示\n",
    "alt.Chart(name_counts_df[3:40]).mark_bar().encode(\n",
    "    x='_1',\n",
    "    y='_2'\n",
    ")"
   ]
  },
  {
   "cell_type": "code",
   "execution_count": null,
   "metadata": {},
   "outputs": [],
   "source": []
  }
 ],
 "metadata": {
  "kernelspec": {
   "display_name": "Python 3",
   "language": "python",
   "name": "python3"
  },
  "language_info": {
   "codemirror_mode": {
    "name": "ipython",
    "version": 3
   },
   "file_extension": ".py",
   "mimetype": "text/x-python",
   "name": "python",
   "nbconvert_exporter": "python",
   "pygments_lexer": "ipython3",
   "version": "3.8.3"
  }
 },
 "nbformat": 4,
 "nbformat_minor": 4
}
