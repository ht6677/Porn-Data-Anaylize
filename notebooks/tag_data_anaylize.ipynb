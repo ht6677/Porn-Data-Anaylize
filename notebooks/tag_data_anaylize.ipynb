{
 "cells": [
  {
   "cell_type": "code",
   "execution_count": 1,
   "metadata": {},
   "outputs": [
    {
     "data": {
      "text/plain": [
       "'\\n标签数据分析 女优数据分析\\nhttp://www.h4ck.org.cn\\nby obaby\\nobaby@mars\\nemail:root@obaby.org.cn\\ndate: 2020.09.04\\n'"
      ]
     },
     "execution_count": 1,
     "metadata": {},
     "output_type": "execute_result"
    }
   ],
   "source": [
    "'''\n",
    "标签数据分析 女优数据分析\n",
    "http://www.h4ck.org.cn\n",
    "by obaby\n",
    "obaby@mars\n",
    "email:root@obaby.org.cn\n",
    "date: 2020.09.04\n",
    "'''\n",
    "\n",
    "from pyspark.sql.functions import col\n",
    "import altair as alt\n",
    "\n",
    "import pandas as pd\n",
    "from matplotlib import pyplot as plt\n",
    "%matplotlib inline"
   ]
  },
  {
   "cell_type": "code",
   "execution_count": 2,
   "metadata": {},
   "outputs": [],
   "source": [
    "csv = spark.read.option(\"header\",True).csv(\"hdfs://localhost:9000/data2/porn_data_movie_tags.csv\")\n",
    "tag_csv = spark.read.option(\"header\",True).csv(\"hdfs://localhost:9000/data2/porn_data_tag.csv\")"
   ]
  },
  {
   "cell_type": "code",
   "execution_count": 3,
   "metadata": {},
   "outputs": [
    {
     "name": "stdout",
     "output_type": "stream",
     "text": [
      "+---+--------+------+\n",
      "| id|movie_id|tag_id|\n",
      "+---+--------+------+\n",
      "|  1|    9909|     1|\n",
      "|  2|    9909|     2|\n",
      "|  3|    9909|     3|\n",
      "|  4|    9909|     4|\n",
      "|  5|    9910|     5|\n",
      "|  6|    9910|     6|\n",
      "|  7|    9910|     7|\n",
      "|  8|    9910|     8|\n",
      "|  9|    9910|     9|\n",
      "| 10|    9910|    10|\n",
      "| 11|    9911|    12|\n",
      "| 12|    9911|     2|\n",
      "| 13|    9911|     1|\n",
      "| 14|    9911|    13|\n",
      "| 15|    9910|    11|\n",
      "| 16|    9911|    14|\n",
      "| 17|    9911|    15|\n",
      "| 18|    9911|     5|\n",
      "| 19|    9910|    16|\n",
      "| 20|    9910|    17|\n",
      "+---+--------+------+\n",
      "only showing top 20 rows\n",
      "\n"
     ]
    }
   ],
   "source": [
    "csv.show()"
   ]
  },
  {
   "cell_type": "code",
   "execution_count": 4,
   "metadata": {},
   "outputs": [
    {
     "name": "stdout",
     "output_type": "stream",
     "text": [
      "root\n",
      " |-- id: string (nullable = true)\n",
      " |-- movie_id: string (nullable = true)\n",
      " |-- tag_id: string (nullable = true)\n",
      "\n"
     ]
    }
   ],
   "source": [
    "csv.printSchema()"
   ]
  },
  {
   "cell_type": "code",
   "execution_count": 43,
   "metadata": {},
   "outputs": [],
   "source": [
    "from pyspark.sql.functions import col, desc, lit\n",
    "\n",
    "\n",
    "csv = csv.withColumn(\"tag_id\",col(\"tag_id\").cast(\"Integer\")).withColumn(\"count\", lit(1))"
   ]
  },
  {
   "cell_type": "code",
   "execution_count": 44,
   "metadata": {},
   "outputs": [
    {
     "name": "stdout",
     "output_type": "stream",
     "text": [
      "root\n",
      " |-- id: string (nullable = true)\n",
      " |-- movie_id: string (nullable = true)\n",
      " |-- tag_id: integer (nullable = true)\n",
      " |-- count: integer (nullable = false)\n",
      "\n"
     ]
    }
   ],
   "source": [
    "csv.printSchema()"
   ]
  },
  {
   "cell_type": "code",
   "execution_count": 77,
   "metadata": {},
   "outputs": [],
   "source": [
    "tag_rdd = csv.select('tag_id').join(tag_csv, csv.tag_id == tag_csv.id, \"inner\")"
   ]
  },
  {
   "cell_type": "code",
   "execution_count": 78,
   "metadata": {},
   "outputs": [
    {
     "name": "stdout",
     "output_type": "stream",
     "text": [
      "+------+---+--------------------+--------------------+--------+--------+\n",
      "|tag_id| id|              create|              update|    name|describe|\n",
      "+------+---+--------------------+--------------------+--------+--------+\n",
      "|     1|  1|7/5/2020 09:36:51...|26/8/2020 00:52:5...|    本土|    null|\n",
      "|     2|  2|7/5/2020 09:36:51...|26/8/2020 00:52:5...|    正妹|    null|\n",
      "|     3|  3|7/5/2020 09:36:51...|26/8/2020 00:52:1...|第一人稱|    null|\n",
      "|     4|  4|7/5/2020 09:36:52...|27/8/2020 03:30:2...|    口交|    null|\n",
      "|     5|  5|7/5/2020 09:37:38...|25/8/2020 04:36:3...|    制服|    null|\n",
      "|     6|  6|7/5/2020 09:37:39...|26/8/2020 00:52:5...|獨家推薦|    null|\n",
      "|     7|  7|7/5/2020 09:37:39...|26/8/2020 00:52:3...|    痴女|    null|\n",
      "|     8|  8|7/5/2020 09:37:39...|6/8/2020 11:08:56...|    苗條|    null|\n",
      "|     9|  9|7/5/2020 09:37:40...|6/8/2020 11:08:56...|    業餘|    null|\n",
      "|    10| 10|7/5/2020 09:37:40...|25/5/2020 01:39:4...|    辣妹|    null|\n",
      "|    12| 12|7/5/2020 09:37:41...|26/8/2020 00:52:0...|    自慰|    null|\n",
      "|     2|  2|7/5/2020 09:36:51...|26/8/2020 00:52:5...|    正妹|    null|\n",
      "|     1|  1|7/5/2020 09:36:51...|26/8/2020 00:52:5...|    本土|    null|\n",
      "|    13| 13|7/5/2020 09:37:42...|10/8/2020 04:29:2...|  水手服|    null|\n",
      "|    11| 11|7/5/2020 09:37:40...|28/7/2020 23:48:3...|角色扮演|    null|\n",
      "|    14| 14|7/5/2020 09:37:42...|17/8/2020 01:12:0...|    學生|    null|\n",
      "|    15| 15|7/5/2020 09:37:43...|25/8/2020 04:36:5...| COSPLAY|    null|\n",
      "|     5|  5|7/5/2020 09:37:38...|25/8/2020 04:36:3...|    制服|    null|\n",
      "|    16| 16|7/5/2020 09:37:42...|8/5/2020 04:00:48...|  女學生|    null|\n",
      "|    17| 17|7/5/2020 09:37:44...|6/8/2020 11:08:56...|體內射精|    null|\n",
      "+------+---+--------------------+--------------------+--------+--------+\n",
      "only showing top 20 rows\n",
      "\n"
     ]
    }
   ],
   "source": [
    "tag_rdd.show()"
   ]
  },
  {
   "cell_type": "code",
   "execution_count": 79,
   "metadata": {},
   "outputs": [
    {
     "data": {
      "text/plain": [
       "Row(tag_id=1, id='1', create='7/5/2020 09:36:51.030977', update='26/8/2020 00:52:58.953707', name='本土', describe=None)"
      ]
     },
     "execution_count": 79,
     "metadata": {},
     "output_type": "execute_result"
    }
   ],
   "source": [
    "tag_rdd.first()"
   ]
  },
  {
   "cell_type": "code",
   "execution_count": 89,
   "metadata": {},
   "outputs": [],
   "source": [
    "tr = tag_rdd.select('name')"
   ]
  },
  {
   "cell_type": "code",
   "execution_count": null,
   "metadata": {},
   "outputs": [],
   "source": []
  },
  {
   "cell_type": "code",
   "execution_count": 91,
   "metadata": {},
   "outputs": [
    {
     "data": {
      "text/plain": [
       "[(Row(name='本土'), 787),\n",
       " (Row(name='業餘'), 760),\n",
       " (Row(name='辣妹'), 76),\n",
       " (Row(name='角色扮演'), 173),\n",
       " (Row(name='COSPLAY'), 365),\n",
       " (Row(name='配信専用'), 669),\n",
       " (Row(name='無毛'), 46),\n",
       " (Row(name='230ORETD'), 7),\n",
       " (Row(name='眼鏡'), 22),\n",
       " (Row(name='流出'), 340)]"
      ]
     },
     "execution_count": 91,
     "metadata": {},
     "output_type": "execute_result"
    }
   ],
   "source": [
    "\n",
    "tag_count_rdd = tr.rdd.map(lambda x:(x,1)).reduceByKey(lambda x,y:x+y)\n",
    "\n",
    "tag_count_rdd.take(10)"
   ]
  },
  {
   "cell_type": "code",
   "execution_count": 103,
   "metadata": {},
   "outputs": [],
   "source": [
    "tp = tag_count_rdd.sortBy(lambda a: a[1],ascending=False).toDF().toPandas()"
   ]
  },
  {
   "cell_type": "code",
   "execution_count": 104,
   "metadata": {},
   "outputs": [
    {
     "data": {
      "text/html": [
       "<div>\n",
       "<style scoped>\n",
       "    .dataframe tbody tr th:only-of-type {\n",
       "        vertical-align: middle;\n",
       "    }\n",
       "\n",
       "    .dataframe tbody tr th {\n",
       "        vertical-align: top;\n",
       "    }\n",
       "\n",
       "    .dataframe thead th {\n",
       "        text-align: right;\n",
       "    }\n",
       "</style>\n",
       "<table border=\"1\" class=\"dataframe\">\n",
       "  <thead>\n",
       "    <tr style=\"text-align: right;\">\n",
       "      <th></th>\n",
       "      <th>_1</th>\n",
       "      <th>_2</th>\n",
       "    </tr>\n",
       "  </thead>\n",
       "  <tbody>\n",
       "    <tr>\n",
       "      <th>0</th>\n",
       "      <td>(专业拍摄,)</td>\n",
       "      <td>31857</td>\n",
       "    </tr>\n",
       "    <tr>\n",
       "      <th>1</th>\n",
       "      <td>(无字幕,)</td>\n",
       "      <td>28760</td>\n",
       "    </tr>\n",
       "    <tr>\n",
       "      <th>2</th>\n",
       "      <td>(日本,)</td>\n",
       "      <td>27314</td>\n",
       "    </tr>\n",
       "    <tr>\n",
       "      <th>3</th>\n",
       "      <td>(无码,)</td>\n",
       "      <td>22786</td>\n",
       "    </tr>\n",
       "    <tr>\n",
       "      <th>4</th>\n",
       "      <td>(口交,)</td>\n",
       "      <td>21224</td>\n",
       "    </tr>\n",
       "  </tbody>\n",
       "</table>\n",
       "</div>"
      ],
      "text/plain": [
       "        _1     _2\n",
       "0  (专业拍摄,)  31857\n",
       "1   (无字幕,)  28760\n",
       "2    (日本,)  27314\n",
       "3    (无码,)  22786\n",
       "4    (口交,)  21224"
      ]
     },
     "execution_count": 104,
     "metadata": {},
     "output_type": "execute_result"
    }
   ],
   "source": [
    "tp.head()"
   ]
  },
  {
   "cell_type": "code",
   "execution_count": 114,
   "metadata": {},
   "outputs": [
    {
     "data": {
      "text/html": [
       "\n",
       "<div id=\"altair-viz-a806dfff5c4444f48c50e4602f37bd78\"></div>\n",
       "<script type=\"text/javascript\">\n",
       "  (function(spec, embedOpt){\n",
       "    let outputDiv = document.currentScript.previousElementSibling;\n",
       "    if (outputDiv.id !== \"altair-viz-a806dfff5c4444f48c50e4602f37bd78\") {\n",
       "      outputDiv = document.getElementById(\"altair-viz-a806dfff5c4444f48c50e4602f37bd78\");\n",
       "    }\n",
       "    const paths = {\n",
       "      \"vega\": \"https://cdn.jsdelivr.net/npm//vega@5?noext\",\n",
       "      \"vega-lib\": \"https://cdn.jsdelivr.net/npm//vega-lib?noext\",\n",
       "      \"vega-lite\": \"https://cdn.jsdelivr.net/npm//vega-lite@4.8.1?noext\",\n",
       "      \"vega-embed\": \"https://cdn.jsdelivr.net/npm//vega-embed@6?noext\",\n",
       "    };\n",
       "\n",
       "    function loadScript(lib) {\n",
       "      return new Promise(function(resolve, reject) {\n",
       "        var s = document.createElement('script');\n",
       "        s.src = paths[lib];\n",
       "        s.async = true;\n",
       "        s.onload = () => resolve(paths[lib]);\n",
       "        s.onerror = () => reject(`Error loading script: ${paths[lib]}`);\n",
       "        document.getElementsByTagName(\"head\")[0].appendChild(s);\n",
       "      });\n",
       "    }\n",
       "\n",
       "    function showError(err) {\n",
       "      outputDiv.innerHTML = `<div class=\"error\" style=\"color:red;\">${err}</div>`;\n",
       "      throw err;\n",
       "    }\n",
       "\n",
       "    function displayChart(vegaEmbed) {\n",
       "      vegaEmbed(outputDiv, spec, embedOpt)\n",
       "        .catch(err => showError(`Javascript Error: ${err.message}<br>This usually means there's a typo in your chart specification. See the javascript console for the full traceback.`));\n",
       "    }\n",
       "\n",
       "    if(typeof define === \"function\" && define.amd) {\n",
       "      requirejs.config({paths});\n",
       "      require([\"vega-embed\"], displayChart, err => showError(`Error loading script: ${err.message}`));\n",
       "    } else if (typeof vegaEmbed === \"function\") {\n",
       "      displayChart(vegaEmbed);\n",
       "    } else {\n",
       "      loadScript(\"vega\")\n",
       "        .then(() => loadScript(\"vega-lite\"))\n",
       "        .then(() => loadScript(\"vega-embed\"))\n",
       "        .catch(showError)\n",
       "        .then(() => displayChart(vegaEmbed));\n",
       "    }\n",
       "  })({\"config\": {\"view\": {\"continuousWidth\": 400, \"continuousHeight\": 300}}, \"data\": {\"name\": \"data-4d58aa655b79496d3058d75d42fccacd\"}, \"mark\": \"bar\", \"encoding\": {\"x\": {\"type\": \"nominal\", \"field\": \"_1\", \"sort\": \"-y\", \"title\": \"\\u6807\\u7b7e\\u540d\\u79f0\"}, \"y\": {\"type\": \"quantitative\", \"field\": \"_2\", \"title\": \"\\u89c6\\u9891\\u6570\\u91cf\"}}, \"$schema\": \"https://vega.github.io/schema/vega-lite/v4.8.1.json\", \"datasets\": {\"data-4d58aa655b79496d3058d75d42fccacd\": [{\"_1\": [\"\\u4e13\\u4e1a\\u62cd\\u6444\"], \"_2\": 31857}, {\"_1\": [\"\\u65e0\\u5b57\\u5e55\"], \"_2\": 28760}, {\"_1\": [\"\\u65e5\\u672c\"], \"_2\": 27314}, {\"_1\": [\"\\u65e0\\u7801\"], \"_2\": 22786}, {\"_1\": [\"\\u53e3\\u4ea4\"], \"_2\": 21224}, {\"_1\": [\"\\u7f8e\\u4e73\"], \"_2\": 21129}, {\"_1\": [\"\\u6709\\u7801\"], \"_2\": 19175}, {\"_1\": [\"\\u7f8e\\u817f\"], \"_2\": 17568}, {\"_1\": [\"\\u5973\\u4e0a\\u4f4d\"], \"_2\": 14954}, {\"_1\": [\"\\u6e05\\u7eaf\"], \"_2\": 11892}, {\"_1\": [\"\\u4e2d\\u6587\\u5b57\\u5e55\"], \"_2\": 11724}, {\"_1\": [\"\\u8bf1\\u60d1\"], \"_2\": 11545}, {\"_1\": [\"\\u6deb\\u8bed/\\u6deb\\u53eb\"], \"_2\": 11517}, {\"_1\": [\"\\u4e2d\\u51fa\"], \"_2\": 11181}, {\"_1\": [\"\\u6deb\\u4e71\"], \"_2\": 11043}, {\"_1\": [\"\\u7206\\u64cd\"], \"_2\": 10972}, {\"_1\": [\"\\u540e\\u5165\"], \"_2\": 10101}, {\"_1\": [\"\\u5de8\\u4e73\"], \"_2\": 9922}, {\"_1\": [\"\\u82d7\\u6761\"], \"_2\": 9720}, {\"_1\": [\"\\u7f8e\\u5c11\\u5973\"], \"_2\": 9697}, {\"_1\": [\"\\u6deb\\u8361\"], \"_2\": 9293}, {\"_1\": [\"\\u7f8e\\u81c0\"], \"_2\": 9240}, {\"_1\": [\"\\u9ad8\\u6311\"], \"_2\": 7221}, {\"_1\": [\"\\u7f8e\\u9c8d\"], \"_2\": 7147}, {\"_1\": [\"\\u5de8\\u5927\\u5c41\\u80a1\"], \"_2\": 7061}, {\"_1\": [\"\\u8214\\u9634\"], \"_2\": 6666}, {\"_1\": [\"\\u56fd\\u4ea7\"], \"_2\": 6415}, {\"_1\": [\"\\u81ea\\u6170\"], \"_2\": 6198}, {\"_1\": [\"\\u6027\\u611f\"], \"_2\": 5902}, {\"_1\": [\"\\u6027\\u611f\\u5973\\u795e\"], \"_2\": 5517}, {\"_1\": [\"\\u81ea\\u62cd\"], \"_2\": 5160}, {\"_1\": [\"\\u9152\\u5e97\"], \"_2\": 5002}, {\"_1\": [\"\\u4e2d\\u56fd\\u5927\\u9646\"], \"_2\": 4998}, {\"_1\": [\"\\u6263B\"], \"_2\": 4416}, {\"_1\": [\"\\u4e1d\\u889c\"], \"_2\": 4406}, {\"_1\": [\"\\u60c5\\u8da3\\u5185\\u8863\"], \"_2\": 4360}, {\"_1\": [\"\\u5168\\u88f8\"], \"_2\": 4342}, {\"_1\": [\"69\"], \"_2\": 4341}, {\"_1\": [\"\\u75f4\\u5973\"], \"_2\": 4156}, {\"_1\": [\"\\u730e\\u8273\"], \"_2\": 3976}]}}, {\"mode\": \"vega-lite\"});\n",
       "</script>"
      ],
      "text/plain": [
       "alt.Chart(...)"
      ]
     },
     "execution_count": 114,
     "metadata": {},
     "output_type": "execute_result"
    }
   ],
   "source": [
    "# 视频标签数量展示\n",
    "alt.Chart(tp[:40]).mark_bar().encode(\n",
    "    x=alt.X('_1', title='标签名称', sort='-y'),\n",
    "    y=alt.Y('_2', title='视频数量')\n",
    ")"
   ]
  },
  {
   "cell_type": "code",
   "execution_count": null,
   "metadata": {},
   "outputs": [],
   "source": []
  },
  {
   "cell_type": "code",
   "execution_count": null,
   "metadata": {},
   "outputs": [],
   "source": []
  },
  {
   "cell_type": "code",
   "execution_count": 97,
   "metadata": {},
   "outputs": [],
   "source": [
    "tag_count_rdd.saveAsTextFile('hdfs://localhost:9000/mapreduce/movie_tag_data')"
   ]
  },
  {
   "cell_type": "code",
   "execution_count": 116,
   "metadata": {},
   "outputs": [],
   "source": [
    "# model信息\n",
    "movie_model_csv = spark.read.option(\"header\",True).csv(\"hdfs://localhost:9000/data2/porn_data_movie_pron_model.csv\")\n",
    "model_csv = spark.read.option(\"header\",True).csv(\"hdfs://localhost:9000/data2/porn_data_pornmodel.csv\")"
   ]
  },
  {
   "cell_type": "code",
   "execution_count": 117,
   "metadata": {},
   "outputs": [
    {
     "name": "stdout",
     "output_type": "stream",
     "text": [
      "+---+--------+------------+\n",
      "| id|movie_id|pornmodel_id|\n",
      "+---+--------+------------+\n",
      "|  1|   47610|           1|\n",
      "|  2|   47611|           2|\n",
      "|  3|   47612|           2|\n",
      "|  4|   47613|           2|\n",
      "|  5|   47614|           2|\n",
      "|  6|   47615|           2|\n",
      "|  7|   47616|           2|\n",
      "|  8|   47617|           2|\n",
      "|  9|   47618|           2|\n",
      "| 10|   47619|           2|\n",
      "+---+--------+------------+\n",
      "only showing top 10 rows\n",
      "\n"
     ]
    }
   ],
   "source": [
    "movie_model_csv.show(10)"
   ]
  },
  {
   "cell_type": "code",
   "execution_count": 118,
   "metadata": {},
   "outputs": [
    {
     "name": "stdout",
     "output_type": "stream",
     "text": [
      "+---+--------------------+--------------------+-----------------+--------+--------------+--------------------------+--------+\n",
      "| id|              create|              update|             name|describe|       name_en|                   name_jp|third_pk|\n",
      "+---+--------------------+--------------------+-----------------+--------+--------------+--------------------------+--------+\n",
      "|  1|26/5/2020 05:47:1...|28/5/2020 18:06:4...|         菅野松雪|    null|  Kanno Sayuki| 菅野さゆき、かんの さゆき|  CP_455|\n",
      "|  2|26/5/2020 05:47:1...|27/8/2020 03:30:2...|             素人|    null|          null|                      null| CP_1442|\n",
      "|  3|26/5/2020 05:47:4...|25/8/2020 04:36:5...|             网红|    null|          null|                      null| CP_1464|\n",
      "|  4|26/5/2020 05:49:4...|20/8/2020 03:15:3...|             模特|    null|          null|                      null| CP_1465|\n",
      "|  5|26/5/2020 05:53:3...|27/8/2020 03:30:2...|        水果派a龟|    null|          null|                      null| CP_5243|\n",
      "|  6|26/5/2020 05:54:0...|29/5/2020 06:38:5...|             主播|    null|          null|                      null| CP_1496|\n",
      "|  7|26/5/2020 05:54:1...|20/8/2020 03:14:4...|         动画人物|    null|          null|                      null| CP_1918|\n",
      "|  8|26/5/2020 05:54:3...|28/5/2020 14:29:5...|           古濑玲|    null|Hinamori Ayumi|                  古瀬リカ| CP_1943|\n",
      "|  9|26/5/2020 05:54:3...|24/8/2020 10:15:1...|上原亚衣/上原亜衣|    null|     Ai Uehara|   上原亜衣、うえはら あい|  CP_847|\n",
      "| 10|26/5/2020 05:54:3...|29/5/2020 00:33:5...|相内史织/相内诗织|    null| Aiuchi Shiori|相内しおり、あいうちしおり| CP_1065|\n",
      "+---+--------------------+--------------------+-----------------+--------+--------------+--------------------------+--------+\n",
      "only showing top 10 rows\n",
      "\n"
     ]
    }
   ],
   "source": [
    "model_csv.show(10)"
   ]
  },
  {
   "cell_type": "code",
   "execution_count": 125,
   "metadata": {},
   "outputs": [
    {
     "name": "stdout",
     "output_type": "stream",
     "text": [
      "+--------+------------+--------+\n",
      "|movie_id|pornmodel_id|    name|\n",
      "+--------+------------+--------+\n",
      "|   47610|           1|菅野松雪|\n",
      "|   47611|           2|    素人|\n",
      "|   47612|           2|    素人|\n",
      "|   47613|           2|    素人|\n",
      "|   47614|           2|    素人|\n",
      "|   47615|           2|    素人|\n",
      "|   47616|           2|    素人|\n",
      "|   47617|           2|    素人|\n",
      "|   47618|           2|    素人|\n",
      "|   47619|           2|    素人|\n",
      "+--------+------------+--------+\n",
      "only showing top 10 rows\n",
      "\n"
     ]
    }
   ],
   "source": [
    "movie_model_rdd = movie_model_csv.select('movie_id','pornmodel_id').join(model_csv, movie_model_csv.pornmodel_id == model_csv.id, \"inner\")\n",
    "\n",
    "\n",
    "\n",
    "movie_model_rdd.select('movie_id','pornmodel_id', 'name').show(10)\n",
    "\n",
    "\n"
   ]
  },
  {
   "cell_type": "code",
   "execution_count": 128,
   "metadata": {},
   "outputs": [],
   "source": [
    "movie_mode_rdd = movie_model_rdd.select('name')"
   ]
  },
  {
   "cell_type": "code",
   "execution_count": 129,
   "metadata": {},
   "outputs": [
    {
     "data": {
      "text/plain": [
       "[(Row(name='菅野松雪'), 18),\n",
       " (Row(name='素人'), 25824),\n",
       " (Row(name='网红'), 156),\n",
       " (Row(name='模特'), 161),\n",
       " (Row(name='水果派a龟'), 48),\n",
       " (Row(name='主播'), 262),\n",
       " (Row(name='动画人物'), 917),\n",
       " (Row(name='古濑玲'), 14),\n",
       " (Row(name='上原亚衣/上原亜衣'), 63),\n",
       " (Row(name='相内史织/相内诗织'), 7)]"
      ]
     },
     "execution_count": 129,
     "metadata": {},
     "output_type": "execute_result"
    }
   ],
   "source": [
    "model_count_rdd = movie_mode_rdd.rdd.map(lambda x:(x,1)).reduceByKey(lambda x,y:x+y)\n",
    "\n",
    "model_count_rdd.take(10)"
   ]
  },
  {
   "cell_type": "code",
   "execution_count": 130,
   "metadata": {},
   "outputs": [],
   "source": [
    "mtp = model_count_rdd.sortBy(lambda a: a[1],ascending=False).toDF().toPandas()"
   ]
  },
  {
   "cell_type": "code",
   "execution_count": 131,
   "metadata": {},
   "outputs": [
    {
     "data": {
      "text/html": [
       "<div>\n",
       "<style scoped>\n",
       "    .dataframe tbody tr th:only-of-type {\n",
       "        vertical-align: middle;\n",
       "    }\n",
       "\n",
       "    .dataframe tbody tr th {\n",
       "        vertical-align: top;\n",
       "    }\n",
       "\n",
       "    .dataframe thead th {\n",
       "        text-align: right;\n",
       "    }\n",
       "</style>\n",
       "<table border=\"1\" class=\"dataframe\">\n",
       "  <thead>\n",
       "    <tr style=\"text-align: right;\">\n",
       "      <th></th>\n",
       "      <th>_1</th>\n",
       "      <th>_2</th>\n",
       "    </tr>\n",
       "  </thead>\n",
       "  <tbody>\n",
       "    <tr>\n",
       "      <th>0</th>\n",
       "      <td>(素人,)</td>\n",
       "      <td>25824</td>\n",
       "    </tr>\n",
       "    <tr>\n",
       "      <th>1</th>\n",
       "      <td>(动画人物,)</td>\n",
       "      <td>917</td>\n",
       "    </tr>\n",
       "    <tr>\n",
       "      <th>2</th>\n",
       "      <td>(波多野结衣,)</td>\n",
       "      <td>363</td>\n",
       "    </tr>\n",
       "    <tr>\n",
       "      <th>3</th>\n",
       "      <td>(主播,)</td>\n",
       "      <td>262</td>\n",
       "    </tr>\n",
       "    <tr>\n",
       "      <th>4</th>\n",
       "      <td>(仁科百华,)</td>\n",
       "      <td>162</td>\n",
       "    </tr>\n",
       "  </tbody>\n",
       "</table>\n",
       "</div>"
      ],
      "text/plain": [
       "         _1     _2\n",
       "0     (素人,)  25824\n",
       "1   (动画人物,)    917\n",
       "2  (波多野结衣,)    363\n",
       "3     (主播,)    262\n",
       "4   (仁科百华,)    162"
      ]
     },
     "execution_count": 131,
     "metadata": {},
     "output_type": "execute_result"
    }
   ],
   "source": [
    "mtp.head()"
   ]
  },
  {
   "cell_type": "code",
   "execution_count": 133,
   "metadata": {},
   "outputs": [
    {
     "data": {
      "text/html": [
       "\n",
       "<div id=\"altair-viz-5eeca0aac26d4c209f48f484dc918b6f\"></div>\n",
       "<script type=\"text/javascript\">\n",
       "  (function(spec, embedOpt){\n",
       "    let outputDiv = document.currentScript.previousElementSibling;\n",
       "    if (outputDiv.id !== \"altair-viz-5eeca0aac26d4c209f48f484dc918b6f\") {\n",
       "      outputDiv = document.getElementById(\"altair-viz-5eeca0aac26d4c209f48f484dc918b6f\");\n",
       "    }\n",
       "    const paths = {\n",
       "      \"vega\": \"https://cdn.jsdelivr.net/npm//vega@5?noext\",\n",
       "      \"vega-lib\": \"https://cdn.jsdelivr.net/npm//vega-lib?noext\",\n",
       "      \"vega-lite\": \"https://cdn.jsdelivr.net/npm//vega-lite@4.8.1?noext\",\n",
       "      \"vega-embed\": \"https://cdn.jsdelivr.net/npm//vega-embed@6?noext\",\n",
       "    };\n",
       "\n",
       "    function loadScript(lib) {\n",
       "      return new Promise(function(resolve, reject) {\n",
       "        var s = document.createElement('script');\n",
       "        s.src = paths[lib];\n",
       "        s.async = true;\n",
       "        s.onload = () => resolve(paths[lib]);\n",
       "        s.onerror = () => reject(`Error loading script: ${paths[lib]}`);\n",
       "        document.getElementsByTagName(\"head\")[0].appendChild(s);\n",
       "      });\n",
       "    }\n",
       "\n",
       "    function showError(err) {\n",
       "      outputDiv.innerHTML = `<div class=\"error\" style=\"color:red;\">${err}</div>`;\n",
       "      throw err;\n",
       "    }\n",
       "\n",
       "    function displayChart(vegaEmbed) {\n",
       "      vegaEmbed(outputDiv, spec, embedOpt)\n",
       "        .catch(err => showError(`Javascript Error: ${err.message}<br>This usually means there's a typo in your chart specification. See the javascript console for the full traceback.`));\n",
       "    }\n",
       "\n",
       "    if(typeof define === \"function\" && define.amd) {\n",
       "      requirejs.config({paths});\n",
       "      require([\"vega-embed\"], displayChart, err => showError(`Error loading script: ${err.message}`));\n",
       "    } else if (typeof vegaEmbed === \"function\") {\n",
       "      displayChart(vegaEmbed);\n",
       "    } else {\n",
       "      loadScript(\"vega\")\n",
       "        .then(() => loadScript(\"vega-lite\"))\n",
       "        .then(() => loadScript(\"vega-embed\"))\n",
       "        .catch(showError)\n",
       "        .then(() => displayChart(vegaEmbed));\n",
       "    }\n",
       "  })({\"config\": {\"view\": {\"continuousWidth\": 400, \"continuousHeight\": 300}}, \"data\": {\"name\": \"data-86f6561f8b6db43c24e8cbe28c613d8a\"}, \"mark\": \"bar\", \"encoding\": {\"x\": {\"type\": \"nominal\", \"field\": \"_1\", \"sort\": \"-y\", \"title\": \"\\u5973\\u4f18\\u59d3\\u540d\"}, \"y\": {\"type\": \"quantitative\", \"field\": \"_2\", \"title\": \"\\u89c6\\u9891\\u6570\\u91cf\"}}, \"$schema\": \"https://vega.github.io/schema/vega-lite/v4.8.1.json\", \"datasets\": {\"data-86f6561f8b6db43c24e8cbe28c613d8a\": [{\"_1\": [\"\\u52a8\\u753b\\u4eba\\u7269\"], \"_2\": 917}, {\"_1\": [\"\\u6ce2\\u591a\\u91ce\\u7ed3\\u8863\"], \"_2\": 363}, {\"_1\": [\"\\u4e3b\\u64ad\"], \"_2\": 262}, {\"_1\": [\"\\u4ec1\\u79d1\\u767e\\u534e\"], \"_2\": 162}, {\"_1\": [\"\\u6a21\\u7279\"], \"_2\": 161}, {\"_1\": [\"\\u7f51\\u7ea2\"], \"_2\": 156}, {\"_1\": [\"\\u4f50\\u4f50\\u6728\\u660e\\u5e0c\"], \"_2\": 140}, {\"_1\": [\"\\u82cd\\u4e95\\u7a7a\"], \"_2\": 108}, {\"_1\": [\"\\u7f8e\\u8c37\\u6731\\u91cc\"], \"_2\": 101}, {\"_1\": [\"\\u5b66\\u751f\"], \"_2\": 96}, {\"_1\": [\"\\u9ebb\\u91cc\\u68a8\\u590f\"], \"_2\": 94}, {\"_1\": [\"\\u672c\\u7530\\u8389\\u5b50\"], \"_2\": 79}, {\"_1\": [\"\\u541b\\u5c9b\\u7f8e\\u7eea/\\u4eac\\u672c\\u67ab\"], \"_2\": 76}, {\"_1\": [\"\\u8475\\u53f8\"], \"_2\": 72}, {\"_1\": [\"\\u767d\\u54b2\\u78a7/\\u51c9\\u5bab\\u7434\\u97f3\"], \"_2\": 72}, {\"_1\": [\"\\u671d\\u6850\\u5149\"], \"_2\": 69}, {\"_1\": [\"\\u67a2\\u6728\\u8475\"], \"_2\": 66}, {\"_1\": [\"\\u4e09\\u4e0a\\u60a0\\u4e9a\"], \"_2\": 65}, {\"_1\": [\"\\u4e0a\\u539f\\u4e9a\\u8863/\\u4e0a\\u539f\\u4e9c\\u8863\"], \"_2\": 63}, {\"_1\": [\"\\u4ed3\\u591a\\u771f\\u592e\"], \"_2\": 58}, {\"_1\": [\"\\u690e\\u540d\\u7a7a\"], \"_2\": 57}, {\"_1\": [\"\\u795e\\u5bab\\u5bfa\\u5948\\u7eea\"], \"_2\": 55}, {\"_1\": [\"\\u5927\\u6865\\u672a\\u4e45\"], \"_2\": 55}, {\"_1\": [\"\\u94c3\\u6728\\u91cc\\u7f8e\"], \"_2\": 53}, {\"_1\": [\"\\u5e76\\u6728\\u4f18\"], \"_2\": 53}, {\"_1\": [\"\\u767d\\u77f3\\u5c0f\\u767e\\u5408/\\u5317\\u6761\\u9ebb\\u5983\"], \"_2\": 53}, {\"_1\": [\"\\u6df1\\u7530\\u548f\\u7f8e\"], \"_2\": 52}, {\"_1\": [\"\\u5927\\u69fb\\u54cd\"], \"_2\": 52}, {\"_1\": [\"\\u6e1a\\u5149\\u5e0c/\\u6e1a\\u307f\\u3064\\u304d\"], \"_2\": 51}, {\"_1\": [\"\\u7b71\\u7530\\u4f18/\\u7be0\\u7530\\u4f18/\\u7b71\\u7530\\u4f51\"], \"_2\": 51}, {\"_1\": [\"\\u5c0f\\u65e9\\u5ddd\\u601c\\u5b50\"], \"_2\": 50}, {\"_1\": [\"\\u5929\\u6d77\\u7ffc\"], \"_2\": 50}, {\"_1\": [\"\\u6865\\u672c\\u6709\\u83dc\"], \"_2\": 49}, {\"_1\": [\"\\u4eac\\u9999JULIA\"], \"_2\": 49}, {\"_1\": [\"\\u6850\\u8c37\\u8309\\u8389\"], \"_2\": 49}, {\"_1\": [\"\\u6c34\\u679c\\u6d3ea\\u9f9f\"], \"_2\": 48}, {\"_1\": [\"\\u6d5c\\u5d0e\\u771f\\u7eea/\\u6ee8\\u5d0e\\u771f\\u7eea\"], \"_2\": 48}, {\"_1\": [\"\\u6a31\\u5343\\u5948\\u7f8e\"], \"_2\": 48}, {\"_1\": [\"\\u5929\\u4f7f\\u840c\"], \"_2\": 47}]}}, {\"mode\": \"vega-lite\"});\n",
       "</script>"
      ],
      "text/plain": [
       "alt.Chart(...)"
      ]
     },
     "execution_count": 133,
     "metadata": {},
     "output_type": "execute_result"
    }
   ],
   "source": [
    "# 女优作品数量展示\n",
    "alt.Chart(mtp[1:40]).mark_bar().encode(\n",
    "    x=alt.X('_1', title='女优姓名', sort='-y'),\n",
    "    y=alt.Y('_2', title='视频数量')\n",
    ")"
   ]
  },
  {
   "cell_type": "code",
   "execution_count": null,
   "metadata": {},
   "outputs": [],
   "source": []
  }
 ],
 "metadata": {
  "kernelspec": {
   "display_name": "Python 3",
   "language": "python",
   "name": "python3"
  },
  "language_info": {
   "codemirror_mode": {
    "name": "ipython",
    "version": 3
   },
   "file_extension": ".py",
   "mimetype": "text/x-python",
   "name": "python",
   "nbconvert_exporter": "python",
   "pygments_lexer": "ipython3",
   "version": "3.8.3"
  }
 },
 "nbformat": 4,
 "nbformat_minor": 4
}
