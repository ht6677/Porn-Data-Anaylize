{
 "cells": [
  {
   "cell_type": "code",
   "execution_count": 1,
   "metadata": {},
   "outputs": [],
   "source": [
    "'''\n",
    "特殊分类视频信息分析 AI换脸\n",
    "http://www.h4ck.org.cn\n",
    "by obaby\n",
    "obaby@mars\n",
    "email:root@obaby.org.cn\n",
    "date: 2020.09.11\n",
    "'''\n",
    "\n",
    "from pyspark.sql.functions import col\n",
    "import altair as alt\n",
    "\n",
    "import pandas as pd\n",
    "from matplotlib import pyplot as plt\n",
    "%matplotlib inline"
   ]
  },
  {
   "cell_type": "code",
   "execution_count": 2,
   "metadata": {},
   "outputs": [
    {
     "name": "stdout",
     "output_type": "stream",
     "text": [
      "root\n",
      " |-- id: string (nullable = true)\n",
      " |-- create: string (nullable = true)\n",
      " |-- update: string (nullable = true)\n",
      " |-- name: string (nullable = true)\n",
      " |-- describe: string (nullable = true)\n",
      " |-- source_id: string (nullable = true)\n",
      " |-- publish_time: string (nullable = true)\n",
      " |-- play_count: string (nullable = true)\n",
      " |-- good_count: string (nullable = true)\n",
      " |-- bad_count: string (nullable = true)\n",
      " |-- link_count: string (nullable = true)\n",
      " |-- comment_count: string (nullable = true)\n",
      " |-- designation: string (nullable = true)\n",
      " |-- category_id: string (nullable = true)\n",
      " |-- porn_site_id: string (nullable = true)\n",
      " |-- uploader_id: string (nullable = true)\n",
      " |-- producer: string (nullable = true)\n",
      "\n"
     ]
    }
   ],
   "source": [
    "csv = spark.read.option(\"header\",True).csv(\"hdfs://localhost:9000/data2/porn_data_movie.csv\")\n",
    "csv.printSchema()"
   ]
  },
  {
   "cell_type": "code",
   "execution_count": 3,
   "metadata": {},
   "outputs": [
    {
     "name": "stdout",
     "output_type": "stream",
     "text": [
      "+------------------------+------------------------+-----------+\n",
      "|                    name|                describe|uploader_id|\n",
      "+------------------------+------------------------+-----------+\n",
      "|    美女学生考试时被中出|                    null|          1|\n",
      "|      无套中出内射（上）|            无套中出内射|          2|\n",
      "|      无套中出内射（下）|            无套中出内射|          2|\n",
      "|                极品嫩妹|                    null|          3|\n",
      "|                骚妹妹 7|                    null|          3|\n",
      "|漂亮美女完美身材甜美声音|漂亮美女完美身材甜美声音|          4|\n",
      "|          jk捆绑萝莉束缚|                    null|          1|\n",
      "|            最纯萝莉性爱|                    null|          1|\n",
      "|          整容脸制服美女|                    null|          1|\n",
      "|             星 调教萝莉|                    null|          5|\n",
      "|        大一学生寝室自慰|                    null|          6|\n",
      "|    超性感美女给你打飞机|                    null|          6|\n",
      "|      超可爱萝莉下海资源|                    null|          6|\n",
      "|      迷倒女儿然后慢慢操|                    null|          6|\n",
      "|   精灵做爱高潮–影视剪辑|                    null|          7|\n",
      "|        小萝莉被插到大叫|                    null|          6|\n",
      "|    睡醒和白嫩女友来一发|                    null|          6|\n",
      "|  双马尾萝莉甜美自慰诱惑|                    null|          8|\n",
      "|        调教双马尾小萝莉|                    null|          1|\n",
      "|    黑丝小萝莉最喜欢玩具|                    null|          9|\n",
      "+------------------------+------------------------+-----------+\n",
      "only showing top 20 rows\n",
      "\n"
     ]
    }
   ],
   "source": [
    "csv.select('name', 'describe', 'uploader_id').show()"
   ]
  },
  {
   "cell_type": "code",
   "execution_count": 4,
   "metadata": {},
   "outputs": [],
   "source": [
    "# 分类信息读取 \n",
    "category_csv = spark.read.option(\"header\",True).csv(\"hdfs://localhost:9000/data2/porn_data_category.csv\")"
   ]
  },
  {
   "cell_type": "code",
   "execution_count": 5,
   "metadata": {},
   "outputs": [
    {
     "name": "stdout",
     "output_type": "stream",
     "text": [
      "root\n",
      " |-- id: string (nullable = true)\n",
      " |-- create: string (nullable = true)\n",
      " |-- update: string (nullable = true)\n",
      " |-- name: string (nullable = true)\n",
      " |-- key: string (nullable = true)\n",
      " |-- describe: string (nullable = true)\n",
      "\n"
     ]
    }
   ],
   "source": [
    "category_csv.printSchema()"
   ]
  },
  {
   "cell_type": "code",
   "execution_count": 7,
   "metadata": {},
   "outputs": [
    {
     "name": "stdout",
     "output_type": "stream",
     "text": [
      "+---+--------------------+--------------------+------------------------+------------------------+---------+------------+----------+----------+---------+----------+-------------+-----------+-----------+------------+-----------+--------+\n",
      "| id|              create|              update|              movie_name|                describe|source_id|publish_time|play_count|good_count|bad_count|link_count|comment_count|designation|category_id|porn_site_id|uploader_id|producer|\n",
      "+---+--------------------+--------------------+------------------------+------------------------+---------+------------+----------+----------+---------+----------+-------------+-----------+-----------+------------+-----------+--------+\n",
      "|  1|7/5/2020 05:20:14...|7/5/2020 05:20:14...|    美女学生考试时被中出|                    null|    76009|  1588819417|      2566|        14|        2|        48|            0|       null|          1|           1|          1|    null|\n",
      "|  2|7/5/2020 05:21:04...|7/5/2020 05:21:04...|      无套中出内射（上）|            无套中出内射|    76021|  1588757668|     11199|        58|        3|       338|            0|       null|          1|           1|          2|    null|\n",
      "|  3|7/5/2020 05:21:06...|7/5/2020 05:21:06...|      无套中出内射（下）|            无套中出内射|    76028|  1588757665|      7067|        39|        3|       310|            0|       null|          1|           1|          2|    null|\n",
      "|  4|7/5/2020 05:21:12...|7/5/2020 05:21:13...|                极品嫩妹|                    null|    76053|  1588756935|      3372|        18|        2|       159|            0|       null|          1|           1|          3|    null|\n",
      "|  5|7/5/2020 05:21:18...|7/5/2020 05:21:19...|                骚妹妹 7|                    null|    76051|  1588756876|      1975|        10|        0|        53|            0|       null|          1|           1|          3|    null|\n",
      "|  6|7/5/2020 05:22:13...|7/5/2020 05:22:13...|漂亮美女完美身材甜美声音|漂亮美女完美身材甜美声音|    75971|  1588744135|     17097|        31|        3|       222|            0|       null|          1|           1|          4|    null|\n",
      "|  7|7/5/2020 05:22:19...|7/5/2020 05:22:19...|          jk捆绑萝莉束缚|                    null|    75342|  1588739354|      8362|        29|        6|       201|            0|       null|          1|           1|          1|    null|\n",
      "|  8|7/5/2020 05:22:23...|7/5/2020 05:22:23...|            最纯萝莉性爱|                    null|    75112|  1588739158|     10329|        61|        5|       434|            0|       null|          1|           1|          1|    null|\n",
      "|  9|7/5/2020 05:22:30...|7/5/2020 05:22:31...|          整容脸制服美女|                    null|    75104|  1588739080|      5297|        26|        2|       221|            0|       null|          1|           1|          1|    null|\n",
      "| 10|7/5/2020 05:22:38...|7/5/2020 05:22:38...|             星 调教萝莉|                    null|    75563|  1588738220|      4725|        31|        5|       166|            0|       null|          1|           1|          5|    null|\n",
      "| 11|7/5/2020 05:22:44...|7/5/2020 05:22:45...|        大一学生寝室自慰|                    null|    75601|  1588686744|     20318|       152|        4|       773|            0|       null|          1|           1|          6|    null|\n",
      "| 12|7/5/2020 05:22:47...|7/5/2020 05:22:48...|    超性感美女给你打飞机|                    null|    75603|  1588686520|     17302|        54|        7|       333|            0|       null|          1|           1|          6|    null|\n",
      "| 13|7/5/2020 05:22:53...|7/5/2020 05:22:53...|      超可爱萝莉下海资源|                    null|    75747|  1588686493|     18133|        98|       10|       497|            0|       null|          1|           1|          6|    null|\n",
      "| 14|7/5/2020 05:22:56...|7/5/2020 05:22:57...|      迷倒女儿然后慢慢操|                    null|    75611|  1588686476|     59674|       182|       25|       793|            0|       null|          1|           1|          6|    null|\n",
      "| 15|7/5/2020 05:22:59...|7/5/2020 05:23:00...|   精灵做爱高潮–影视剪辑|                    null|    75543|  1588686387|      8767|       100|        7|       152|            0|       null|          1|           1|          7|    null|\n",
      "| 16|7/5/2020 05:23:16...|7/5/2020 05:23:16...|        小萝莉被插到大叫|                    null|    75307|  1588670775|     14213|        71|        8|       360|            0|       null|          1|           1|          6|    null|\n",
      "| 17|7/5/2020 05:23:21...|7/5/2020 05:23:22...|    睡醒和白嫩女友来一发|                    null|    75318|  1588668616|      5350|        30|        3|       185|            0|       null|          1|           1|          6|    null|\n",
      "| 18|7/5/2020 05:23:26...|7/5/2020 05:23:27...|  双马尾萝莉甜美自慰诱惑|                    null|    75382|  1588652017|     25311|       190|       10|       890|            0|       null|          1|           1|          8|    null|\n",
      "| 19|7/5/2020 05:23:28...|7/5/2020 05:23:29...|        调教双马尾小萝莉|                    null|    74932|  1588644358|     29114|       180|       19|       783|            0|       null|          1|           1|          1|    null|\n",
      "| 20|7/5/2020 05:23:35...|7/5/2020 05:23:36...|    黑丝小萝莉最喜欢玩具|                    null|    74812|  1588585581|     17084|       141|       10|       883|            0|       null|          1|           1|          9|    null|\n",
      "+---+--------------------+--------------------+------------------------+------------------------+---------+------------+----------+----------+---------+----------+-------------+-----------+-----------+------------+-----------+--------+\n",
      "only showing top 20 rows\n",
      "\n"
     ]
    }
   ],
   "source": [
    "movie_csv = csv.withColumnRenamed('name','movie_name')\n",
    "movie_csv.select('movie_name', 'category_id', 'id').show()"
   ]
  },
  {
   "cell_type": "code",
   "execution_count": 8,
   "metadata": {},
   "outputs": [],
   "source": [
    "movie_cat_rdd = movie_csv.select('movie_name','category_id').join(category_csv, movie_csv.category_id == category_csv.id, \"inner\")\n",
    "\n"
   ]
  },
  {
   "cell_type": "code",
   "execution_count": 9,
   "metadata": {},
   "outputs": [
    {
     "name": "stdout",
     "output_type": "stream",
     "text": [
      "+------------------------+------+---+\n",
      "|              movie_name|  name| id|\n",
      "+------------------------+------+---+\n",
      "|    美女学生考试时被中出|萝莉系|  1|\n",
      "|      无套中出内射（上）|萝莉系|  1|\n",
      "|      无套中出内射（下）|萝莉系|  1|\n",
      "|                极品嫩妹|萝莉系|  1|\n",
      "|                骚妹妹 7|萝莉系|  1|\n",
      "|漂亮美女完美身材甜美声音|萝莉系|  1|\n",
      "|          jk捆绑萝莉束缚|萝莉系|  1|\n",
      "|            最纯萝莉性爱|萝莉系|  1|\n",
      "|          整容脸制服美女|萝莉系|  1|\n",
      "|             星 调教萝莉|萝莉系|  1|\n",
      "|        大一学生寝室自慰|萝莉系|  1|\n",
      "|    超性感美女给你打飞机|萝莉系|  1|\n",
      "|      超可爱萝莉下海资源|萝莉系|  1|\n",
      "|      迷倒女儿然后慢慢操|萝莉系|  1|\n",
      "|   精灵做爱高潮–影视剪辑|萝莉系|  1|\n",
      "|        小萝莉被插到大叫|萝莉系|  1|\n",
      "|    睡醒和白嫩女友来一发|萝莉系|  1|\n",
      "|  双马尾萝莉甜美自慰诱惑|萝莉系|  1|\n",
      "|        调教双马尾小萝莉|萝莉系|  1|\n",
      "|    黑丝小萝莉最喜欢玩具|萝莉系|  1|\n",
      "+------------------------+------+---+\n",
      "only showing top 20 rows\n",
      "\n"
     ]
    }
   ],
   "source": [
    "movie_cat_rdd.select('movie_name', 'name', 'id').show()"
   ]
  },
  {
   "cell_type": "code",
   "execution_count": 17,
   "metadata": {},
   "outputs": [],
   "source": [
    "import jieba.posseg as psg\n",
    "\n",
    "def get_person_name_from_line(line):\n",
    "    words = psg.cut(str(line))\n",
    "    l =[]\n",
    "    for x in words:\n",
    "        if x.flag =='nr':\n",
    "            l.append(x.word)\n",
    "        # print(x.word, x.flag)\n",
    "    return l\n",
    "    "
   ]
  },
  {
   "cell_type": "code",
   "execution_count": 21,
   "metadata": {},
   "outputs": [
    {
     "name": "stdout",
     "output_type": "stream",
     "text": [
      "['朱宜锐', '范冰冰', '贲', '张', '范冰冰', '范冰冰', '范冰冰', '朱宜锐', '范冰冰']\n"
     ]
    }
   ],
   "source": [
    "# 测试文字 http://m.lewenb.com/wapbook-1315-235763/\n",
    "# document.body.innerText\n",
    "w2 = get_person_name_from_line('朱宜锐的一只大手，隔着一层绵薄滑软的抚握住范冰冰那一只弹挺柔软的，他的手轻而不急地揉捏着……手掌间传来一阵坚挺结实、柔软无比而又充满弹性的美妙肉感，令他血脉贲张。看见澜那线条优美的秀丽桃腮上，一抹醉人的晕红正逐渐蔓衍到她那美艳动人的绝色娇靥上，他不由得色心一荡，他的手指逐渐收拢，轻轻地用两根手指轻抚范冰冰下那傲挺的峰顶，打着圈的轻抚揉压，找到那一粒娇小玲珑的挺突之巅的。他两根手指轻轻地夹住范冰冰那娇软柔小的，温柔而有技巧地一阵揉搓、轻捏。范冰冰被那从敏感地带的玉上传来的异样的感觉弄得浑身如被虫噬。一想到就连自己平常一个人都不好意思久看，不敢轻触的娇小被这样一个陌生而又恶心的男人（至少在她看来是这样）肆意揉搓轻抚，芳心不觉又感到万分的羞涩和莫名的刺激。朱宜锐一面揉捏着范冰冰那娇小的，一面继续在她的深处抽动着……')\n",
    "print(w2)"
   ]
  },
  {
   "cell_type": "code",
   "execution_count": 25,
   "metadata": {},
   "outputs": [
    {
     "name": "stdout",
     "output_type": "stream",
     "text": [
      "+---+--------------------+--------------------+------+----------+--------+\n",
      "| id|              create|              update|  name|       key|describe|\n",
      "+---+--------------------+--------------------+------+----------+--------+\n",
      "|  9|7/5/2020 06:51:12...|27/8/2020 03:32:4...|AI换脸|aihuanlian|    null|\n",
      "+---+--------------------+--------------------+------+----------+--------+\n",
      "\n"
     ]
    }
   ],
   "source": [
    "category_csv.filter(col('name')== 'AI换脸').show()"
   ]
  },
  {
   "cell_type": "code",
   "execution_count": 27,
   "metadata": {},
   "outputs": [
    {
     "name": "stdout",
     "output_type": "stream",
     "text": [
      "+------------------------+-----------+---+--------------------+--------------------+------+-------+--------+\n",
      "|              movie_name|category_id| id|              create|              update|  name|    key|describe|\n",
      "+------------------------+-----------+---+--------------------+--------------------+------+-------+--------+\n",
      "|    美女学生考试时被中出|          1|  1|7/5/2020 05:20:14...|27/8/2020 03:31:2...|萝莉系|luolixi|    null|\n",
      "|      无套中出内射（上）|          1|  1|7/5/2020 05:20:14...|27/8/2020 03:31:2...|萝莉系|luolixi|    null|\n",
      "|      无套中出内射（下）|          1|  1|7/5/2020 05:20:14...|27/8/2020 03:31:2...|萝莉系|luolixi|    null|\n",
      "|                极品嫩妹|          1|  1|7/5/2020 05:20:14...|27/8/2020 03:31:2...|萝莉系|luolixi|    null|\n",
      "|                骚妹妹 7|          1|  1|7/5/2020 05:20:14...|27/8/2020 03:31:2...|萝莉系|luolixi|    null|\n",
      "|漂亮美女完美身材甜美声音|          1|  1|7/5/2020 05:20:14...|27/8/2020 03:31:2...|萝莉系|luolixi|    null|\n",
      "|          jk捆绑萝莉束缚|          1|  1|7/5/2020 05:20:14...|27/8/2020 03:31:2...|萝莉系|luolixi|    null|\n",
      "|            最纯萝莉性爱|          1|  1|7/5/2020 05:20:14...|27/8/2020 03:31:2...|萝莉系|luolixi|    null|\n",
      "|          整容脸制服美女|          1|  1|7/5/2020 05:20:14...|27/8/2020 03:31:2...|萝莉系|luolixi|    null|\n",
      "|             星 调教萝莉|          1|  1|7/5/2020 05:20:14...|27/8/2020 03:31:2...|萝莉系|luolixi|    null|\n",
      "|        大一学生寝室自慰|          1|  1|7/5/2020 05:20:14...|27/8/2020 03:31:2...|萝莉系|luolixi|    null|\n",
      "|    超性感美女给你打飞机|          1|  1|7/5/2020 05:20:14...|27/8/2020 03:31:2...|萝莉系|luolixi|    null|\n",
      "|      超可爱萝莉下海资源|          1|  1|7/5/2020 05:20:14...|27/8/2020 03:31:2...|萝莉系|luolixi|    null|\n",
      "|      迷倒女儿然后慢慢操|          1|  1|7/5/2020 05:20:14...|27/8/2020 03:31:2...|萝莉系|luolixi|    null|\n",
      "|   精灵做爱高潮–影视剪辑|          1|  1|7/5/2020 05:20:14...|27/8/2020 03:31:2...|萝莉系|luolixi|    null|\n",
      "|        小萝莉被插到大叫|          1|  1|7/5/2020 05:20:14...|27/8/2020 03:31:2...|萝莉系|luolixi|    null|\n",
      "|    睡醒和白嫩女友来一发|          1|  1|7/5/2020 05:20:14...|27/8/2020 03:31:2...|萝莉系|luolixi|    null|\n",
      "|  双马尾萝莉甜美自慰诱惑|          1|  1|7/5/2020 05:20:14...|27/8/2020 03:31:2...|萝莉系|luolixi|    null|\n",
      "|        调教双马尾小萝莉|          1|  1|7/5/2020 05:20:14...|27/8/2020 03:31:2...|萝莉系|luolixi|    null|\n",
      "|    黑丝小萝莉最喜欢玩具|          1|  1|7/5/2020 05:20:14...|27/8/2020 03:31:2...|萝莉系|luolixi|    null|\n",
      "+------------------------+-----------+---+--------------------+--------------------+------+-------+--------+\n",
      "only showing top 20 rows\n",
      "\n"
     ]
    }
   ],
   "source": [
    "movie_cat_rdd.show()"
   ]
  },
  {
   "cell_type": "code",
   "execution_count": null,
   "metadata": {},
   "outputs": [],
   "source": []
  },
  {
   "cell_type": "code",
   "execution_count": 29,
   "metadata": {},
   "outputs": [],
   "source": [
    "# 只分析AI换脸分类下的数据，虽然会有一部分遗漏，如果全部数据都进行解析会引入大量的无关数据（主要由于分词精度不够）\n",
    "name_rdd = movie_cat_rdd.filter(col('category_id')=='9').select('movie_name').rdd"
   ]
  },
  {
   "cell_type": "code",
   "execution_count": 30,
   "metadata": {},
   "outputs": [],
   "source": [
    "name_word_rdd = name_rdd.flatMap(get_person_name_from_line)"
   ]
  },
  {
   "cell_type": "code",
   "execution_count": 31,
   "metadata": {},
   "outputs": [
    {
     "data": {
      "text/plain": [
       "['林允儿',\n",
       " '杨幂',\n",
       " '祖儿',\n",
       " '刘亦菲',\n",
       " '明星',\n",
       " '陈乔恩',\n",
       " '容祖儿',\n",
       " '林允儿',\n",
       " '明星',\n",
       " '宋',\n",
       " '王鸥',\n",
       " '迪丽',\n",
       " '刘亦菲',\n",
       " '明星',\n",
       " '迪丽',\n",
       " '陈乔恩',\n",
       " '刘亦菲',\n",
       " '刘亦菲',\n",
       " '迪丽',\n",
       " '陈乔恩']"
      ]
     },
     "execution_count": 31,
     "metadata": {},
     "output_type": "execute_result"
    }
   ],
   "source": [
    "name_word_rdd.take(20)"
   ]
  },
  {
   "cell_type": "code",
   "execution_count": 32,
   "metadata": {},
   "outputs": [],
   "source": [
    "# map reduce 进行词频统计\n",
    "name_counts_rdd = name_word_rdd.map(lambda x:(x,1)).reduceByKey(lambda x,y:x+y)\n"
   ]
  },
  {
   "cell_type": "code",
   "execution_count": 33,
   "metadata": {},
   "outputs": [
    {
     "name": "stdout",
     "output_type": "stream",
     "text": [
      "姓名统计一共: 100\n"
     ]
    }
   ],
   "source": [
    "print('姓名统计一共:', str(name_counts_rdd.count()))"
   ]
  },
  {
   "cell_type": "code",
   "execution_count": 34,
   "metadata": {},
   "outputs": [
    {
     "data": {
      "text/plain": [
       "[('明星', 33),\n",
       " ('杨幂', 27),\n",
       " ('迪丽', 27),\n",
       " ('刘亦菲', 17),\n",
       " ('高清', 14),\n",
       " ('杨颖', 13),\n",
       " ('林允儿', 10),\n",
       " ('鞠', 8),\n",
       " ('杨', 8),\n",
       " ('白虎', 6),\n",
       " ('刘诗诗', 6),\n",
       " ('宋雨琦', 6),\n",
       " ('佟丽娅', 6),\n",
       " ('宋', 5),\n",
       " ('陈乔恩', 5),\n",
       " ('爽', 5),\n",
       " ('范冰冰', 4),\n",
       " ('刘涛', 4),\n",
       " ('林志玲', 4),\n",
       " ('宋祖儿', 3)]"
      ]
     },
     "execution_count": 34,
     "metadata": {},
     "output_type": "execute_result"
    }
   ],
   "source": [
    "name_counts_rdd.sortBy(lambda a: a[1],ascending=False).collect()[:20]"
   ]
  },
  {
   "cell_type": "code",
   "execution_count": 35,
   "metadata": {},
   "outputs": [],
   "source": [
    "name_counts_df = name_counts_rdd.toDF().toPandas()\n"
   ]
  },
  {
   "cell_type": "code",
   "execution_count": 36,
   "metadata": {},
   "outputs": [
    {
     "data": {
      "text/html": [
       "<div>\n",
       "<style scoped>\n",
       "    .dataframe tbody tr th:only-of-type {\n",
       "        vertical-align: middle;\n",
       "    }\n",
       "\n",
       "    .dataframe tbody tr th {\n",
       "        vertical-align: top;\n",
       "    }\n",
       "\n",
       "    .dataframe thead th {\n",
       "        text-align: right;\n",
       "    }\n",
       "</style>\n",
       "<table border=\"1\" class=\"dataframe\">\n",
       "  <thead>\n",
       "    <tr style=\"text-align: right;\">\n",
       "      <th></th>\n",
       "      <th>_1</th>\n",
       "      <th>_2</th>\n",
       "    </tr>\n",
       "  </thead>\n",
       "  <tbody>\n",
       "    <tr>\n",
       "      <th>0</th>\n",
       "      <td>杨幂</td>\n",
       "      <td>27</td>\n",
       "    </tr>\n",
       "    <tr>\n",
       "      <th>1</th>\n",
       "      <td>祖儿</td>\n",
       "      <td>1</td>\n",
       "    </tr>\n",
       "    <tr>\n",
       "      <th>2</th>\n",
       "      <td>明星</td>\n",
       "      <td>33</td>\n",
       "    </tr>\n",
       "    <tr>\n",
       "      <th>3</th>\n",
       "      <td>容祖儿</td>\n",
       "      <td>2</td>\n",
       "    </tr>\n",
       "    <tr>\n",
       "      <th>4</th>\n",
       "      <td>宋</td>\n",
       "      <td>5</td>\n",
       "    </tr>\n",
       "  </tbody>\n",
       "</table>\n",
       "</div>"
      ],
      "text/plain": [
       "    _1  _2\n",
       "0   杨幂  27\n",
       "1   祖儿   1\n",
       "2   明星  33\n",
       "3  容祖儿   2\n",
       "4    宋   5"
      ]
     },
     "execution_count": 36,
     "metadata": {},
     "output_type": "execute_result"
    }
   ],
   "source": [
    "name_counts_df.head()"
   ]
  },
  {
   "cell_type": "code",
   "execution_count": 38,
   "metadata": {},
   "outputs": [
    {
     "data": {
      "text/html": [
       "\n",
       "<div id=\"altair-viz-a05a250c1b0c4ad59f291ee91c7598cc\"></div>\n",
       "<script type=\"text/javascript\">\n",
       "  (function(spec, embedOpt){\n",
       "    let outputDiv = document.currentScript.previousElementSibling;\n",
       "    if (outputDiv.id !== \"altair-viz-a05a250c1b0c4ad59f291ee91c7598cc\") {\n",
       "      outputDiv = document.getElementById(\"altair-viz-a05a250c1b0c4ad59f291ee91c7598cc\");\n",
       "    }\n",
       "    const paths = {\n",
       "      \"vega\": \"https://cdn.jsdelivr.net/npm//vega@5?noext\",\n",
       "      \"vega-lib\": \"https://cdn.jsdelivr.net/npm//vega-lib?noext\",\n",
       "      \"vega-lite\": \"https://cdn.jsdelivr.net/npm//vega-lite@4.8.1?noext\",\n",
       "      \"vega-embed\": \"https://cdn.jsdelivr.net/npm//vega-embed@6?noext\",\n",
       "    };\n",
       "\n",
       "    function loadScript(lib) {\n",
       "      return new Promise(function(resolve, reject) {\n",
       "        var s = document.createElement('script');\n",
       "        s.src = paths[lib];\n",
       "        s.async = true;\n",
       "        s.onload = () => resolve(paths[lib]);\n",
       "        s.onerror = () => reject(`Error loading script: ${paths[lib]}`);\n",
       "        document.getElementsByTagName(\"head\")[0].appendChild(s);\n",
       "      });\n",
       "    }\n",
       "\n",
       "    function showError(err) {\n",
       "      outputDiv.innerHTML = `<div class=\"error\" style=\"color:red;\">${err}</div>`;\n",
       "      throw err;\n",
       "    }\n",
       "\n",
       "    function displayChart(vegaEmbed) {\n",
       "      vegaEmbed(outputDiv, spec, embedOpt)\n",
       "        .catch(err => showError(`Javascript Error: ${err.message}<br>This usually means there's a typo in your chart specification. See the javascript console for the full traceback.`));\n",
       "    }\n",
       "\n",
       "    if(typeof define === \"function\" && define.amd) {\n",
       "      requirejs.config({paths});\n",
       "      require([\"vega-embed\"], displayChart, err => showError(`Error loading script: ${err.message}`));\n",
       "    } else if (typeof vegaEmbed === \"function\") {\n",
       "      displayChart(vegaEmbed);\n",
       "    } else {\n",
       "      loadScript(\"vega\")\n",
       "        .then(() => loadScript(\"vega-lite\"))\n",
       "        .then(() => loadScript(\"vega-embed\"))\n",
       "        .catch(showError)\n",
       "        .then(() => displayChart(vegaEmbed));\n",
       "    }\n",
       "  })({\"config\": {\"view\": {\"continuousWidth\": 400, \"continuousHeight\": 300}}, \"layer\": [{\"mark\": \"bar\", \"encoding\": {\"x\": {\"type\": \"quantitative\", \"field\": \"_2\", \"title\": \"\\u89c6\\u9891\\u6570\\u91cf\"}, \"y\": {\"type\": \"nominal\", \"field\": \"_1\", \"sort\": \"-x\", \"title\": \"\\u660e\\u661f\\u59d3\\u540d\"}}}, {\"mark\": {\"type\": \"text\", \"align\": \"left\", \"baseline\": \"middle\", \"dx\": 3}, \"encoding\": {\"text\": {\"type\": \"quantitative\", \"field\": \"_2\"}, \"x\": {\"type\": \"quantitative\", \"field\": \"_2\", \"title\": \"\\u89c6\\u9891\\u6570\\u91cf\"}, \"y\": {\"type\": \"nominal\", \"field\": \"_1\", \"sort\": \"-x\", \"title\": \"\\u660e\\u661f\\u59d3\\u540d\"}}}], \"data\": {\"name\": \"data-9c22a76496750b6f01daa248fc436e3d\"}, \"height\": 1400, \"width\": 800, \"$schema\": \"https://vega.github.io/schema/vega-lite/v4.8.1.json\", \"datasets\": {\"data-9c22a76496750b6f01daa248fc436e3d\": [{\"_1\": \"\\u6768\\u5e42\", \"_2\": 27}, {\"_1\": \"\\u7956\\u513f\", \"_2\": 1}, {\"_1\": \"\\u660e\\u661f\", \"_2\": 33}, {\"_1\": \"\\u5bb9\\u7956\\u513f\", \"_2\": 2}, {\"_1\": \"\\u5b8b\", \"_2\": 5}, {\"_1\": \"\\u738b\\u9e25\", \"_2\": 2}, {\"_1\": \"\\u9648\\u598d\", \"_2\": 1}, {\"_1\": \"\\u5e0c\\u6f6e\", \"_2\": 1}, {\"_1\": \"\\u5b59\\u4fea\", \"_2\": 1}, {\"_1\": \"\\u67f3\\u5ca9\", \"_2\": 1}, {\"_1\": \"\\u6797\\u73cd\\u5a1c\", \"_2\": 1}, {\"_1\": \"\\u5c0f\\u5976\\u59b9\", \"_2\": 1}, {\"_1\": \"\\u6768\\u9896\", \"_2\": 13}, {\"_1\": \"\\u5b8b\\u7956\\u513f\", \"_2\": 3}, {\"_1\": \"\\u6cf0\\u52d2\", \"_2\": 1}, {\"_1\": \"\\u666f\\u751c\", \"_2\": 1}, {\"_1\": \"\\u6d2a\\u6c34\", \"_2\": 1}, {\"_1\": \"\\u767d\\u864e\", \"_2\": 6}, {\"_1\": \"\\u8001\\u516c\", \"_2\": 1}, {\"_1\": \"\\u5f20\\u5f00\", \"_2\": 1}, {\"_1\": \"\\u5c0f\\u599e\", \"_2\": 1}, {\"_1\": \"\\u9ed1\\u5be1\\u5987\", \"_2\": 2}, {\"_1\": \"\\u5927\\u79c0\", \"_2\": 1}, {\"_1\": \"\\u5999\\u4e3d\", \"_2\": 1}, {\"_1\": \"\\u5c0f\\u59d0\\u59d0\", \"_2\": 1}, {\"_1\": \"\\u65af\\u5854\\u514b\", \"_2\": 1}, {\"_1\": \"\\u53e4\\u4e3d\", \"_2\": 1}, {\"_1\": \"\\u53cc\\u7a74\\u9f50\", \"_2\": 1}, {\"_1\": \"\\u7f8e\\u5c11\\u5973\", \"_2\": 3}, {\"_1\": \"\\u9ad8\\u6e05\", \"_2\": 14}, {\"_1\": \"\\u53cc\\u59dd\", \"_2\": 1}, {\"_1\": \"\\u51cc\\u8fb1\", \"_2\": 1}, {\"_1\": \"\\u5b8b\\u6167\\u55ac\", \"_2\": 2}, {\"_1\": \"\\u6069\", \"_2\": 1}, {\"_1\": \"\\u5218\\u8bd7\\u8bd7\", \"_2\": 6}, {\"_1\": \"\\u674e\\u5c0f\\u7490\", \"_2\": 1}, {\"_1\": \"\\u666f\\u7530\", \"_2\": 1}, {\"_1\": \"\\u674e\\u5609\\u6b23\", \"_2\": 1}, {\"_1\": \"\\u68ee\", \"_2\": 1}, {\"_1\": \"\\u5468\\u5b50\\u745c\", \"_2\": 2}, {\"_1\": \"\\u5289\\u4ea6\\u83f2\", \"_2\": 1}, {\"_1\": \"\\u4f0a\\u4e3d\\u838e\\u767d\", \"_2\": 1}, {\"_1\": \"\\u5b8b\\u96e8\\u7426\", \"_2\": 6}, {\"_1\": \"\\u595a\\u68a6\\u7476\", \"_2\": 1}, {\"_1\": \"\\u661f\\u5973\\u90ce\", \"_2\": 1}, {\"_1\": \"\\u598d\", \"_2\": 1}, {\"_1\": \"\\u6731\\u8335\", \"_2\": 1}, {\"_1\": \"\\u795d\\u7eea\\u4e39\", \"_2\": 2}, {\"_1\": \"\\u90fd\\u7075\", \"_2\": 3}, {\"_1\": \"\\u6768\\u9896\\u53cc\", \"_2\": 1}, {\"_1\": \"\\u9648\\u94b0\\u742a\", \"_2\": 1}, {\"_1\": \"\\u53cc\\u98de\", \"_2\": 1}, {\"_1\": \"\\u767d\\u4e1d\", \"_2\": 1}, {\"_1\": \"\\u6e29\\u6cc9\", \"_2\": 1}, {\"_1\": \"\\u5e08\\u751f\", \"_2\": 1}, {\"_1\": \"\\u6797\\u5141\\u513f\", \"_2\": 10}, {\"_1\": \"\\u5218\\u4ea6\\u83f2\", \"_2\": 17}, {\"_1\": \"\\u9648\\u4e54\\u6069\", \"_2\": 5}, {\"_1\": \"\\u8fea\\u4e3d\", \"_2\": 27}, {\"_1\": \"\\u97a0\", \"_2\": 8}, {\"_1\": \"\\u7a0b\\u6f47\", \"_2\": 3}, {\"_1\": \"\\u6c5f\", \"_2\": 2}, {\"_1\": \"\\u4f5f\\u4e3d\\u5a05\", \"_2\": 6}, {\"_1\": \"\\u8d75\\u4e3d\\u9896\", \"_2\": 2}, {\"_1\": \"\\u8303\\u51b0\\u51b0\", \"_2\": 4}, {\"_1\": \"\\u9b4f\\u5927\\u52cb\", \"_2\": 1}, {\"_1\": \"\\u97a0\\u5a67\\u709c\", \"_2\": 1}, {\"_1\": \"\\u5218\\u6d9b\", \"_2\": 4}, {\"_1\": \"\\u6768\", \"_2\": 8}, {\"_1\": \"\\u723d\", \"_2\": 5}, {\"_1\": \"\\u9c8d\\u9c8d\", \"_2\": 2}, {\"_1\": \"\\u9093\\u7d2b\\u68cb\", \"_2\": 3}, {\"_1\": \"\\u9ec4\\u6653\", \"_2\": 2}, {\"_1\": \"\\u4e4b\\u604b\", \"_2\": 2}, {\"_1\": \"\\u6797\\u5fd7\\u73b2\", \"_2\": 4}, {\"_1\": \"\\u674e\", \"_2\": 2}, {\"_1\": \"\\u4f5f\\u4e9a\\u4e3d\", \"_2\": 1}, {\"_1\": \"\\u9ad8\\u6f6e\", \"_2\": 3}, {\"_1\": \"\\u7389\\u8db3\", \"_2\": 1}, {\"_1\": \"\\u97e9\\u96ea\", \"_2\": 1}, {\"_1\": \"\\u592a\\u598d\", \"_2\": 2}, {\"_1\": \"\\u827e\\u739b\\u534e\", \"_2\": 1}, {\"_1\": \"\\u745c\", \"_2\": 1}, {\"_1\": \"\\u9b91\\u9b91\", \"_2\": 1}, {\"_1\": \"\\u6768\\u7d2b\", \"_2\": 1}, {\"_1\": \"\\u5141\\u513f\", \"_2\": 1}, {\"_1\": \"\\u674e\\u4e00\\u6850\", \"_2\": 2}, {\"_1\": \"\\u8303\\u82e5\\u82e5\", \"_2\": 1}, {\"_1\": \"\\u9ad8\\u5706\\u5706\", \"_2\": 2}, {\"_1\": \"\\u5f20\\u96e8\", \"_2\": 2}, {\"_1\": \"\\u9b91\", \"_2\": 1}, {\"_1\": \"\\u52a0\\u6735\", \"_2\": 1}, {\"_1\": \"\\u9648\", \"_2\": 3}, {\"_1\": \"\\u75f4\\u6c49\", \"_2\": 1}, {\"_1\": \"\\u9648\\u9759\", \"_2\": 1}, {\"_1\": \"\\u6c5f\\u7409\\u5f71\", \"_2\": 1}, {\"_1\": \"\\u97e9\\u56e2\", \"_2\": 1}, {\"_1\": \"\\u674e\\u627f\\u5229\", \"_2\": 1}, {\"_1\": \"\\u989c\\u5c04\", \"_2\": 1}, {\"_1\": \"\\u5b59\\u827a\\u73cd\", \"_2\": 1}]}}, {\"mode\": \"vega-lite\"});\n",
       "</script>"
      ],
      "text/plain": [
       "alt.LayerChart(...)"
      ]
     },
     "execution_count": 38,
     "metadata": {},
     "output_type": "execute_result"
    }
   ],
   "source": [
    "# 视频标签数量展示\n",
    "bars=alt.Chart(name_counts_df).mark_bar().encode(\n",
    "    x=alt.X('_2', title='视频数量'),\n",
    "    y=alt.Y('_1', title='明星姓名', sort='-x')\n",
    ")\n",
    "text = bars.mark_text(align='left', baseline='middle', dx=3).encode(text='_2')\n",
    "(bars + text).properties(height=1400, width=800)"
   ]
  },
  {
   "cell_type": "code",
   "execution_count": 42,
   "metadata": {},
   "outputs": [
    {
     "name": "stdout",
     "output_type": "stream",
     "text": [
      "+-----------------------------------+\n",
      "|                         movie_name|\n",
      "+-----------------------------------+\n",
      "|重金购买长相酷似女星迪丽XX的性感...|\n",
      "|           迪丽热巴刘亦菲等明星合集|\n",
      "|             迪丽热巴换上盛装自己嗨|\n",
      "|               Al迪丽热巴大长腿中出|\n",
      "|                       低配迪丽热巴|\n",
      "|                    AI换脸 迪丽热巴|\n",
      "|                           迪丽热巴|\n",
      "|            AI换脸 迪丽热巴大战炮机|\n",
      "|                 AI迪丽热巴自慰绝美|\n",
      "|     [AI换脸] 迪丽热巴！演艺圈淫...|\n",
      "|                 [AI换脸] 迪丽热巴2|\n",
      "|【明星淫梦】人工智能AI让女神们下...|\n",
      "|                 【AI换脸】迪丽热巴|\n",
      "|            国产，酷似迪丽热巴 爆菊|\n",
      "|                    AI换脸 迪丽热巴|\n",
      "|                 [AI换脸] 迪丽热巴3|\n",
      "|           迪丽热巴唯美身材激情自慰|\n",
      "|                           迪丽热巴|\n",
      "|                           迪丽热巴|\n",
      "|                  迪丽热巴 智能换脸|\n",
      "+-----------------------------------+\n",
      "only showing top 20 rows\n",
      "\n"
     ]
    }
   ],
   "source": [
    "# 迪丽-> 迪丽热巴\n",
    "# 对于分词之后的姓名可以做进一步的解析，通过人工分析可以修正解析到的错误姓名。\n",
    "# https://intellipaat.com/community/11489/filter-spark-dataframe-on-string-contains\n",
    "movie_cat_rdd.filter(col('movie_name').contains('迪丽')).select('movie_name').show()"
   ]
  },
  {
   "cell_type": "code",
   "execution_count": 45,
   "metadata": {},
   "outputs": [
    {
     "name": "stdout",
     "output_type": "stream",
     "text": [
      "+-------------------------------+\n",
      "|                     movie_name|\n",
      "+-------------------------------+\n",
      "|             宋轶鞠婧祎模特洗礼|\n",
      "|               鞠婧祎和一群男人|\n",
      "|【9uu神手】AI换脸之鞠婧祎 骚...|\n",
      "|                  AI换脸 鞠婧炜|\n",
      "|          【AI】鞠婧祎 短发空乘|\n",
      "|         Al换脸鞠婧祎双胞胎服侍|\n",
      "|                         鞠婧祎|\n",
      "|                  AI换脸鞠婧祎 |\n",
      "|          原创ai-宋轶鞠婧祎长腿|\n",
      "|         ai换脸鞠婧祎干朋友妻子|\n",
      "|           AI换脸女神鞠婧祎合集|\n",
      "|           AI原创鞠婧祎激情颜射|\n",
      "+-------------------------------+\n",
      "\n"
     ]
    }
   ],
   "source": [
    "movie_cat_rdd.filter(col('movie_name').contains('鞠')).select('movie_name').show()"
   ]
  },
  {
   "cell_type": "code",
   "execution_count": null,
   "metadata": {},
   "outputs": [],
   "source": [
    "# 除了部分人名解析有问题，另外还有一部分数据原本不是人名，解析成了人名。例如玉足、痴汉等等~~\n",
    "# 通过视频数量侧面也反映出了女明星在宅男中的热度？或者流行程度？"
   ]
  }
 ],
 "metadata": {
  "kernelspec": {
   "display_name": "Python 3",
   "language": "python",
   "name": "python3"
  },
  "language_info": {
   "codemirror_mode": {
    "name": "ipython",
    "version": 3
   },
   "file_extension": ".py",
   "mimetype": "text/x-python",
   "name": "python",
   "nbconvert_exporter": "python",
   "pygments_lexer": "ipython3",
   "version": "3.8.3"
  }
 },
 "nbformat": 4,
 "nbformat_minor": 4
}
